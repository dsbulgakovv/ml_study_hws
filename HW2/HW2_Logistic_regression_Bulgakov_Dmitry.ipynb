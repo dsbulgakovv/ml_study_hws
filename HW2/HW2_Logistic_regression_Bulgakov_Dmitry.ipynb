{
 "cells": [
  {
   "cell_type": "markdown",
   "metadata": {
    "id": "SUo0BaOJSWQT"
   },
   "source": [
    "### Домашня работа 2.\n",
    "### Логистическая регрессия. Работа с признаками"
   ]
  },
  {
   "cell_type": "markdown",
   "metadata": {
    "id": "Nnya5LKOSWQY"
   },
   "source": [
    "\n",
    "### Оценивание и штрафы\n",
    "Каждая из задач имеет определенную «стоимость» (указана в скобках около задачи). Максимально допустимая оценка за работу — 15 баллов. Можно получить 4.5 бонусных балла.\n",
    "\n",
    "Неэффективная реализация кода может негативно отразиться на оценке."
   ]
  },
  {
   "cell_type": "code",
   "execution_count": 1,
   "metadata": {
    "colab": {
     "base_uri": "https://localhost:8080/"
    },
    "id": "FUAvW7bcSWQa",
    "outputId": "c2b035f8-344c-4f80-c831-a9e33b8fc491"
   },
   "outputs": [
    {
     "name": "stdout",
     "output_type": "stream",
     "text": [
      "Всем удачи!👒 Тут она точно пригодится.\n"
     ]
    }
   ],
   "source": [
    "print('Всем удачи!👒 Тут она точно пригодится.')"
   ]
  },
  {
   "cell_type": "code",
   "execution_count": 2,
   "metadata": {
    "ExecuteTime": {
     "end_time": "2019-10-16T18:11:48.202066Z",
     "start_time": "2019-10-16T18:11:46.362572Z"
    },
    "colab": {
     "base_uri": "https://localhost:8080/"
    },
    "id": "isz8JL23SWQd",
    "outputId": "4e19d3d8-ca98-4236-8792-10ba4d832737"
   },
   "outputs": [
    {
     "name": "stdout",
     "output_type": "stream",
     "text": [
      "%pylab is deprecated, use %matplotlib inline and import the required libraries.\n",
      "Populating the interactive namespace from numpy and matplotlib\n"
     ]
    }
   ],
   "source": [
    "%pylab inline\n",
    "import pandas as pd\n",
    "from matplotlib import pyplot as plt\n",
    "import random\n",
    "\n",
    "from sklearn.datasets import make_classification\n",
    "from sklearn.model_selection import train_test_split"
   ]
  },
  {
   "cell_type": "markdown",
   "metadata": {
    "id": "kkqnhA1USWQe"
   },
   "source": [
    "## Часть 1. Логистическая регрессия своими руками (4 балла)"
   ]
  },
  {
   "cell_type": "markdown",
   "metadata": {
    "ExecuteTime": {
     "end_time": "2018-10-12T07:36:04.765536Z",
     "start_time": "2018-10-12T07:35:57.814973Z"
    },
    "id": "lXkil-UUSWQf"
   },
   "source": [
    "Реализуйте логистическую регрессию, обучаемую с помощью:\n",
    "\n",
    "**Задание 1 (1.5 балла). Градиентного спуска**\n",
    "\n",
    "**Задание 2 (1.5 балла). Стохастического градиентного спуска**\n",
    "\n",
    "Во всех пунктах необходимо соблюдать следующие условия:\n",
    "- Градиентный спуск необходимо записать в векторном виде\n",
    "- Циклы средствами python допускается использовать только для итераций градиентного спуска;\n",
    "- В качестве критерия останова необходимо использовать (одновременно):\n",
    "\n",
    "        проверку на евклидову норму разности весов на двух соседних итерациях (например, меньше некоторого малого числа порядка $10^{-6}$) задаваемого параметром `tolerance`;\n",
    "\n",
    "\n",
    "        достижение максимального числа итераций (например, 10000), задаваемого параметром `max_iter`.\n",
    "\n",
    "Чтобы проследить, что оптимизационный процесс действительно сходится, будем использовать атрибут класса loss_history. В нём после вызова метода fit должны содержаться значения функции потерь для всех итераций, начиная с первой (до совершения первого шага по антиградиенту);\n",
    "\n",
    "Инициализировать веса можно случайным образом или нулевым вектором."
   ]
  },
  {
   "cell_type": "markdown",
   "metadata": {
    "id": "qKi2lJf4SWQg"
   },
   "source": [
    "Полезно [почитать](https://scikit-learn.org/stable/developers/develop.html)."
   ]
  },
  {
   "cell_type": "markdown",
   "metadata": {
    "id": "5UnsLxr3bmB-"
   },
   "source": [
    "![image.png](data:image/png;base64,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)"
   ]
  },
  {
   "cell_type": "code",
   "execution_count": 3,
   "metadata": {
    "ExecuteTime": {
     "end_time": "2019-10-16T18:11:50.932537Z",
     "start_time": "2019-10-16T18:11:50.752839Z"
    },
    "id": "5dLwdQ7KSWQh"
   },
   "outputs": [],
   "source": [
    "import numpy as np\n",
    "from sklearn.base import BaseEstimator\n",
    "\n",
    "class LogReg(BaseEstimator):\n",
    "    def __init__(self, gd_type='stochastic',\n",
    "                 tolerance=1e-4, max_iter=1000, w0=None, eta=1e-2,\n",
    "                 batch_size=100):\n",
    "        \"\"\"\n",
    "        gd_type: 'full' or 'stochastic'\n",
    "        tolerance: for stopping gradient descent\n",
    "        max_iter: maximum number of steps in gradient descent\n",
    "        w0: np.array of shape (d) — init weights\n",
    "        eta: learning rate\n",
    "        \"\"\"\n",
    "        self.gd_type = gd_type\n",
    "        self.tolerance = tolerance\n",
    "        self.max_iter = max_iter\n",
    "        self.w0 = w0\n",
    "        # self.alpha = alpha\n",
    "        self.w = None\n",
    "        self.eta = eta\n",
    "        self.loss_history = None # list of loss function values at each training iteration\n",
    "        self.batch_size = batch_size\n",
    "\n",
    "    def fit(self, X, y):\n",
    "        \"\"\"\n",
    "        X: np.array of shape (ell, d)\n",
    "        y: np.array of shape (ell)\n",
    "        ---\n",
    "        output: self\n",
    "        \"\"\"\n",
    "        self.loss_history = []\n",
    "        #╰( ͡° ͜ʖ ͡° )つ──☆*:・ﾟ\n",
    "        ell = X.shape[0]\n",
    "        d = X.shape[1]\n",
    "        X = np.array(X)\n",
    "        y = y.reshape(ell, 1)\n",
    "        if not self.w0:\n",
    "            self.w0 = np.random.rand(d, 1)\n",
    "        self.w = self.w0\n",
    "        if self.gd_type == 'full':\n",
    "            loss_0 = self.calc_loss(X, y)\n",
    "            self.loss_history.append(loss_0)\n",
    "            for step in range(self.max_iter):\n",
    "                grad = self.calc_gradient(X, y)\n",
    "                self.w = self.w - (self.eta * grad).reshape(d, 1)\n",
    "                loss = self.calc_loss(X, y)\n",
    "                self.loss_history.append(loss)\n",
    "                diff_stop = abs(self.loss_history[-2] - self.loss_history[-1])\n",
    "                if step > 3:\n",
    "                    diff_stop = (\n",
    "                        abs(self.loss_history[-2] - self.loss_history[-1]) +\n",
    "                        abs(self.loss_history[-3] - self.loss_history[-2])\n",
    "                    )\n",
    "                    if diff_stop <= self.tolerance:\n",
    "                        break\n",
    "        elif self.gd_type == 'stochastic':\n",
    "            if self.batch_size > ell:\n",
    "                raise Exception(\n",
    "                    '''\n",
    "                    The batch size is bigger than the number of samples in the data.\n",
    "                    Please, use full gradient descent type insted (gd_type=\"full\").\n",
    "                    ''')\n",
    "            for step in range(self.max_iter):\n",
    "                indecies = [random.randint(0, ell-1) for i in range(self.batch_size)]\n",
    "                X_batch = X[indecies, :]\n",
    "                y_batch = y[indecies]\n",
    "                if step == 0:\n",
    "                    loss_0 = self.calc_loss(X_batch, y_batch)\n",
    "                    self.loss_history.append(loss_0)\n",
    "                grad = self.calc_gradient(X_batch, y_batch)\n",
    "                reg = 1 / (step + 1)\n",
    "                self.w = self.w - (reg * self.eta * grad).reshape(d, 1)\n",
    "                loss = self.calc_loss(X_batch, y_batch)\n",
    "                self.loss_history.append(loss)\n",
    "                if step > 3:\n",
    "                    diff_stop = (\n",
    "                        abs(self.loss_history[-2] - self.loss_history[-1]) +\n",
    "                        abs(self.loss_history[-3] - self.loss_history[-2])\n",
    "                    )\n",
    "                    if diff_stop <= self.tolerance:\n",
    "                        break\n",
    "\n",
    "        return self\n",
    "\n",
    "\n",
    "    def predict_proba(self, X):\n",
    "        if self.w is None:\n",
    "            raise Exception('Not trained yet')\n",
    "        #╰( ͡° ͜ʖ ͡° )つ──☆*:・ﾟ\n",
    "        X = np.array(X)\n",
    "        args = X @ self.w\n",
    "        probas = 1 / (1 + np.exp(-args))\n",
    "\n",
    "        return probas\n",
    "\n",
    "\n",
    "    def predict(self, X):\n",
    "        if self.w is None:\n",
    "            raise Exception('Not trained yet')\n",
    "        #╰( ͡° ͜ʖ ͡° )つ──☆*:・ﾟ\n",
    "        X = np.array(X)\n",
    "        pred_probas = self.prefict_proba(X)\n",
    "        pred_classes = (pred_probas >= 0.5).astype(int)\n",
    "\n",
    "        return pred_classes\n",
    "\n",
    "    def calc_gradient(self, X, y):\n",
    "        \"\"\"\n",
    "        X: np.array of shape (ell, d) (ell can be equal to 1 if stochastic)\n",
    "        y: np.array of shape (ell)\n",
    "        ---\n",
    "        output: np.array of shape (d)\n",
    "        \"\"\"\n",
    "        #╰( ͡° ͜ʖ ͡° )つ──☆*:・ﾟ\n",
    "        X = np.array(X)\n",
    "        y = y.reshape(X.shape[0], 1)\n",
    "        pred = self.predict_proba(X)\n",
    "        grad = (pred - y).reshape(1, X.shape[0]) @ X\n",
    "\n",
    "        return grad\n",
    "\n",
    "    def calc_loss(self, X, y):\n",
    "        \"\"\"\n",
    "        X: np.array of shape (ell, d)\n",
    "        y: np.array of shape (ell)\n",
    "        ---\n",
    "        output: float\n",
    "        \"\"\"\n",
    "        #╰( ͡° ͜ʖ ͡° )つ──☆*:・ﾟ\n",
    "        X = np.array(X)\n",
    "        y = y.reshape(X.shape[0], 1)\n",
    "        pred = self.predict_proba(X)\n",
    "        loss = np.mean(-y * np.log(1e-4 + pred) - (1 - y) * np.log(1 + 1e-4 - pred))\n",
    "\n",
    "        return loss"
   ]
  },
  {
   "cell_type": "code",
   "execution_count": 4,
   "metadata": {
    "colab": {
     "base_uri": "https://localhost:8080/",
     "height": 530
    },
    "id": "ZmeMoA9tRzTX",
    "outputId": "cc280630-9b21-40f6-922e-e81040fb713e"
   },
   "outputs": [
    {
     "name": "stdout",
     "output_type": "stream",
     "text": [
      "[[-0.22838478]\n",
      " [ 0.32145688]\n",
      " [-0.2782964 ]]\n",
      "0.6787330776138902\n",
      "0.6834354911698717\n"
     ]
    },
    {
     "data": {
      "text/plain": [
       "[<matplotlib.lines.Line2D at 0xffff302cbf70>]"
      ]
     },
     "execution_count": 4,
     "metadata": {},
     "output_type": "execute_result"
    },
    {
     "data": {
      "image/png": "[encoded data removed]",
      "text/plain": [
       "<Figure size 640x480 with 1 Axes>"
      ]
     },
     "metadata": {},
     "output_type": "display_data"
    }
   ],
   "source": [
    "# проверки ...\n",
    "X = np.random.rand(100, 3)\n",
    "y = np.random.randint(2, size=(100, 1))\n",
    "\n",
    "model = LogReg(gd_type='stochastic', tolerance=1e-4, eta=0.01, max_iter=10000, batch_size=100)\n",
    "model.fit(X, y)\n",
    "print(model.w)\n",
    "print(model.loss_history[-1])\n",
    "print(model.calc_loss(X, y))\n",
    "plt.plot(model.loss_history)"
   ]
  },
  {
   "cell_type": "code",
   "execution_count": 5,
   "metadata": {
    "colab": {
     "base_uri": "https://localhost:8080/",
     "height": 530
    },
    "id": "2LorrXjEiUrU",
    "outputId": "14f74410-cdfe-4c43-f959-ccc05cfda1e1"
   },
   "outputs": [
    {
     "name": "stdout",
     "output_type": "stream",
     "text": [
      "[[ 0.01717145]\n",
      " [-0.48743295]\n",
      " [-0.2081197 ]]\n",
      "0.6752829601312048\n",
      "0.6752829601312048\n"
     ]
    },
    {
     "data": {
      "text/plain": [
       "[<matplotlib.lines.Line2D at 0xffff2ff206d0>]"
      ]
     },
     "execution_count": 5,
     "metadata": {},
     "output_type": "execute_result"
    },
    {
     "data": {
      "image/png": "[encoded data removed]",
      "text/plain": [
       "<Figure size 640x480 with 1 Axes>"
      ]
     },
     "metadata": {},
     "output_type": "display_data"
    }
   ],
   "source": [
    "# проверки ...\n",
    "X = np.random.rand(100, 3)\n",
    "y = np.random.randint(2, size=(100, 1))\n",
    "\n",
    "model = LogReg(gd_type='full', tolerance=1e-5, eta=0.01, max_iter=10000)\n",
    "model.fit(X, y)\n",
    "print(model.w)\n",
    "print(model.loss_history[-1])\n",
    "print(model.calc_loss(X, y))\n",
    "plt.plot(model.loss_history)"
   ]
  },
  {
   "cell_type": "markdown",
   "metadata": {
    "id": "junBX9z6SWQi"
   },
   "source": [
    "Синтетические данные"
   ]
  },
  {
   "cell_type": "code",
   "execution_count": 6,
   "metadata": {
    "colab": {
     "base_uri": "https://localhost:8080/"
    },
    "id": "GIyD43E7SWQi",
    "outputId": "82defb72-d48c-438a-fd5a-191c4f2b0215"
   },
   "outputs": [
    {
     "name": "stdout",
     "output_type": "stream",
     "text": [
      "%pylab is deprecated, use %matplotlib inline and import the required libraries.\n",
      "Populating the interactive namespace from numpy and matplotlib\n"
     ]
    },
    {
     "name": "stderr",
     "output_type": "stream",
     "text": [
      "/home/dsbulgako1/my_repos/mlops_project/env/lib/python3.10/site-packages/IPython/core/magics/pylab.py:162: UserWarning: pylab import has clobbered these variables: ['random']\n",
      "`%matplotlib` prevents importing * from pylab and numpy\n",
      "  warn(\"pylab import has clobbered these variables: %s\"  % clobbered +\n"
     ]
    }
   ],
   "source": [
    "%pylab inline\n",
    "import pandas as pd\n",
    "\n",
    "from sklearn.datasets import make_classification\n",
    "from sklearn.model_selection import train_test_split"
   ]
  },
  {
   "cell_type": "code",
   "execution_count": 7,
   "metadata": {
    "id": "YF2oWqcESWQj"
   },
   "outputs": [],
   "source": [
    "X, y = make_classification(\n",
    "    n_samples=100000, n_features=20, n_informative=10, n_redundant=10,\n",
    "    random_state=42)\n",
    "\n",
    "X_train, X_test, y_train, y_test = train_test_split(\n",
    "    X, y, test_size=0.3, random_state=42)"
   ]
  },
  {
   "cell_type": "markdown",
   "metadata": {
    "id": "NIuvRAPPSWQk"
   },
   "source": [
    "**Важно:** далее предполагается, что вы используете собственную реализацию логистической регрессии.\n",
    "Если с написанием класса возникли проблемы, используйте реализацию sklearn, чтобы не терять баллы за остальные задания."
   ]
  },
  {
   "cell_type": "markdown",
   "metadata": {
    "id": "h8C9xjVESWQk"
   },
   "source": [
    "**Задание 3 (1 балл)**\n",
    "\n",
    "Обучите логистическую регрессию на синтетических данных."
   ]
  },
  {
   "cell_type": "code",
   "execution_count": 8,
   "metadata": {
    "ExecuteTime": {
     "end_time": "2018-10-11T20:39:43.088969Z",
     "start_time": "2018-10-11T20:39:43.084985Z"
    },
    "colab": {
     "base_uri": "https://localhost:8080/",
     "height": 151
    },
    "id": "ijB9Da8VSWQl",
    "outputId": "2d233e50-f977-473e-bc78-5fbbd9ce49ca"
   },
   "outputs": [
    {
     "name": "stderr",
     "output_type": "stream",
     "text": [
      "/tmp/ipykernel_6646/2341408568.py:93: RuntimeWarning: overflow encountered in exp\n",
      "  probas = 1 / (1 + np.exp(-args))\n"
     ]
    },
    {
     "data": {
      "text/html": [
       "<style>#sk-container-id-1 {color: black;}#sk-container-id-1 pre{padding: 0;}#sk-container-id-1 div.sk-toggleable {background-color: white;}#sk-container-id-1 label.sk-toggleable__label {cursor: pointer;display: block;width: 100%;margin-bottom: 0;padding: 0.3em;box-sizing: border-box;text-align: center;}#sk-container-id-1 label.sk-toggleable__label-arrow:before {content: \"▸\";float: left;margin-right: 0.25em;color: #696969;}#sk-container-id-1 label.sk-toggleable__label-arrow:hover:before {color: black;}#sk-container-id-1 div.sk-estimator:hover label.sk-toggleable__label-arrow:before {color: black;}#sk-container-id-1 div.sk-toggleable__content {max-height: 0;max-width: 0;overflow: hidden;text-align: left;background-color: #f0f8ff;}#sk-container-id-1 div.sk-toggleable__content pre {margin: 0.2em;color: black;border-radius: 0.25em;background-color: #f0f8ff;}#sk-container-id-1 input.sk-toggleable__control:checked~div.sk-toggleable__content {max-height: 200px;max-width: 100%;overflow: auto;}#sk-container-id-1 input.sk-toggleable__control:checked~label.sk-toggleable__label-arrow:before {content: \"▾\";}#sk-container-id-1 div.sk-estimator input.sk-toggleable__control:checked~label.sk-toggleable__label {background-color: #d4ebff;}#sk-container-id-1 div.sk-label input.sk-toggleable__control:checked~label.sk-toggleable__label {background-color: #d4ebff;}#sk-container-id-1 input.sk-hidden--visually {border: 0;clip: rect(1px 1px 1px 1px);clip: rect(1px, 1px, 1px, 1px);height: 1px;margin: -1px;overflow: hidden;padding: 0;position: absolute;width: 1px;}#sk-container-id-1 div.sk-estimator {font-family: monospace;background-color: #f0f8ff;border: 1px dotted black;border-radius: 0.25em;box-sizing: border-box;margin-bottom: 0.5em;}#sk-container-id-1 div.sk-estimator:hover {background-color: #d4ebff;}#sk-container-id-1 div.sk-parallel-item::after {content: \"\";width: 100%;border-bottom: 1px solid gray;flex-grow: 1;}#sk-container-id-1 div.sk-label:hover label.sk-toggleable__label {background-color: #d4ebff;}#sk-container-id-1 div.sk-serial::before {content: \"\";position: absolute;border-left: 1px solid gray;box-sizing: border-box;top: 0;bottom: 0;left: 50%;z-index: 0;}#sk-container-id-1 div.sk-serial {display: flex;flex-direction: column;align-items: center;background-color: white;padding-right: 0.2em;padding-left: 0.2em;position: relative;}#sk-container-id-1 div.sk-item {position: relative;z-index: 1;}#sk-container-id-1 div.sk-parallel {display: flex;align-items: stretch;justify-content: center;background-color: white;position: relative;}#sk-container-id-1 div.sk-item::before, #sk-container-id-1 div.sk-parallel-item::before {content: \"\";position: absolute;border-left: 1px solid gray;box-sizing: border-box;top: 0;bottom: 0;left: 50%;z-index: -1;}#sk-container-id-1 div.sk-parallel-item {display: flex;flex-direction: column;z-index: 1;position: relative;background-color: white;}#sk-container-id-1 div.sk-parallel-item:first-child::after {align-self: flex-end;width: 50%;}#sk-container-id-1 div.sk-parallel-item:last-child::after {align-self: flex-start;width: 50%;}#sk-container-id-1 div.sk-parallel-item:only-child::after {width: 0;}#sk-container-id-1 div.sk-dashed-wrapped {border: 1px dashed gray;margin: 0 0.4em 0.5em 0.4em;box-sizing: border-box;padding-bottom: 0.4em;background-color: white;}#sk-container-id-1 div.sk-label label {font-family: monospace;font-weight: bold;display: inline-block;line-height: 1.2em;}#sk-container-id-1 div.sk-label-container {text-align: center;}#sk-container-id-1 div.sk-container {/* jupyter's `normalize.less` sets `[hidden] { display: none; }` but bootstrap.min.css set `[hidden] { display: none !important; }` so we also need the `!important` here to be able to override the default hidden behavior on the sphinx rendered scikit-learn.org. See: https://github.com/scikit-learn/scikit-learn/issues/21755 */display: inline-block !important;position: relative;}#sk-container-id-1 div.sk-text-repr-fallback {display: none;}</style><div id=\"sk-container-id-1\" class=\"sk-top-container\"><div class=\"sk-text-repr-fallback\"><pre>LogReg(batch_size=1000, eta=0.1, max_iter=1500,\n",
       "       w0=array([[0.9159277 ],\n",
       "       [0.57033487],\n",
       "       [0.42204865],\n",
       "       [0.59011748],\n",
       "       [0.39350137],\n",
       "       [0.0700031 ],\n",
       "       [0.19404621],\n",
       "       [0.91430443],\n",
       "       [0.90390004],\n",
       "       [0.90861414],\n",
       "       [0.06658602],\n",
       "       [0.85965352],\n",
       "       [0.82566614],\n",
       "       [0.84981432],\n",
       "       [0.1243353 ],\n",
       "       [0.17445743],\n",
       "       [0.02658871],\n",
       "       [0.3533772 ],\n",
       "       [0.20120077],\n",
       "       [0.05063197]]))</pre><b>In a Jupyter environment, please rerun this cell to show the HTML representation or trust the notebook. <br />On GitHub, the HTML representation is unable to render, please try loading this page with nbviewer.org.</b></div><div class=\"sk-container\" hidden><div class=\"sk-item\"><div class=\"sk-estimator sk-toggleable\"><input class=\"sk-toggleable__control sk-hidden--visually\" id=\"sk-estimator-id-1\" type=\"checkbox\" checked><label for=\"sk-estimator-id-1\" class=\"sk-toggleable__label sk-toggleable__label-arrow\">LogReg</label><div class=\"sk-toggleable__content\"><pre>LogReg(batch_size=1000, eta=0.1, max_iter=1500,\n",
       "       w0=array([[0.9159277 ],\n",
       "       [0.57033487],\n",
       "       [0.42204865],\n",
       "       [0.59011748],\n",
       "       [0.39350137],\n",
       "       [0.0700031 ],\n",
       "       [0.19404621],\n",
       "       [0.91430443],\n",
       "       [0.90390004],\n",
       "       [0.90861414],\n",
       "       [0.06658602],\n",
       "       [0.85965352],\n",
       "       [0.82566614],\n",
       "       [0.84981432],\n",
       "       [0.1243353 ],\n",
       "       [0.17445743],\n",
       "       [0.02658871],\n",
       "       [0.3533772 ],\n",
       "       [0.20120077],\n",
       "       [0.05063197]]))</pre></div></div></div></div></div>"
      ],
      "text/plain": [
       "LogReg(batch_size=1000, eta=0.1, max_iter=1500,\n",
       "       w0=array([[0.9159277 ],\n",
       "       [0.57033487],\n",
       "       [0.42204865],\n",
       "       [0.59011748],\n",
       "       [0.39350137],\n",
       "       [0.0700031 ],\n",
       "       [0.19404621],\n",
       "       [0.91430443],\n",
       "       [0.90390004],\n",
       "       [0.90861414],\n",
       "       [0.06658602],\n",
       "       [0.85965352],\n",
       "       [0.82566614],\n",
       "       [0.84981432],\n",
       "       [0.1243353 ],\n",
       "       [0.17445743],\n",
       "       [0.02658871],\n",
       "       [0.3533772 ],\n",
       "       [0.20120077],\n",
       "       [0.05063197]]))"
      ]
     },
     "execution_count": 8,
     "metadata": {},
     "output_type": "execute_result"
    }
   ],
   "source": [
    "### ╰( ͡° ͜ʖ ͡° )つ──☆*:・ﾟ\n",
    "log_model = LogReg(gd_type='stochastic', max_iter=1500, eta=0.1, batch_size=1000)\n",
    "log_model.fit(X_train, y_train)"
   ]
  },
  {
   "cell_type": "code",
   "execution_count": 9,
   "metadata": {},
   "outputs": [
    {
     "name": "stdout",
     "output_type": "stream",
     "text": [
      "0.341486600718707\n"
     ]
    },
    {
     "data": {
      "text/plain": [
       "Text(0.5, 1.0, 'Loss')"
      ]
     },
     "execution_count": 9,
     "metadata": {},
     "output_type": "execute_result"
    },
    {
     "data": {
      "image/png": "[encoded data removed]",
      "text/plain": [
       "<Figure size 640x480 with 1 Axes>"
      ]
     },
     "metadata": {},
     "output_type": "display_data"
    }
   ],
   "source": [
    "print(log_model.loss_history[-1])\n",
    "plt.plot(log_model.loss_history)\n",
    "plt.title('Loss')"
   ]
  },
  {
   "cell_type": "code",
   "execution_count": 10,
   "metadata": {
    "id": "MJQS-Fxgl4_u"
   },
   "outputs": [],
   "source": [
    "from sklearn.metrics import roc_auc_score, auc, roc_curve, precision_recall_curve"
   ]
  },
  {
   "cell_type": "markdown",
   "metadata": {
    "id": "xY9Jgt0ASWQl"
   },
   "source": [
    "На тестовой части посчитайте ROC-AUC, PR-AUC. Постройте ROC и PR кривые. Проинтерпретируйте результат."
   ]
  },
  {
   "cell_type": "code",
   "execution_count": 11,
   "metadata": {
    "id": "bcw3f1vESWQm"
   },
   "outputs": [],
   "source": [
    "### ╰( ͡° ͜ʖ ͡° )つ──☆*:・ﾟ\n",
    "pred_probas = log_model.predict_proba(X_test)"
   ]
  },
  {
   "cell_type": "code",
   "execution_count": 12,
   "metadata": {
    "colab": {
     "base_uri": "https://localhost:8080/",
     "height": 427
    },
    "id": "BX3hCFX5oWrk",
    "outputId": "66aa69be-6836-44e8-d681-721776785d6e"
   },
   "outputs": [
    {
     "data": {
      "text/plain": [
       "Text(0.5, 0, 'Recall')"
      ]
     },
     "execution_count": 12,
     "metadata": {},
     "output_type": "execute_result"
    },
    {
     "data": {
      "image/png": "[encoded data removed]",
      "text/plain": [
       "<Figure size 600x400 with 1 Axes>"
      ]
     },
     "metadata": {},
     "output_type": "display_data"
    }
   ],
   "source": [
    "precision, recall, thresholds = precision_recall_curve(y_test, pred_probas)\n",
    "\n",
    "fig, ax = plt.subplots(figsize=(6, 4))\n",
    "\n",
    "plt.plot(recall, precision)\n",
    "ax.set_title('PR-curve')\n",
    "ax.set_ylabel('Precision')\n",
    "ax.set_xlabel('Recall')"
   ]
  },
  {
   "cell_type": "code",
   "execution_count": 13,
   "metadata": {
    "colab": {
     "base_uri": "https://localhost:8080/",
     "height": 427
    },
    "id": "-twDwT_MqQTT",
    "outputId": "da6f20b3-1e94-4ffa-8b4d-2ecbf8f1a145"
   },
   "outputs": [
    {
     "data": {
      "text/plain": [
       "Text(0.5, 0, 'False-positive rate')"
      ]
     },
     "execution_count": 13,
     "metadata": {},
     "output_type": "execute_result"
    },
    {
     "data": {
      "image/png": "[encoded data removed]",
      "text/plain": [
       "<Figure size 600x400 with 1 Axes>"
      ]
     },
     "metadata": {},
     "output_type": "display_data"
    }
   ],
   "source": [
    "fpr, tpr, thresholds = roc_curve(y_test, pred_probas)\n",
    "\n",
    "fig, ax = plt.subplots(figsize=(6, 4))\n",
    "\n",
    "plt.plot(fpr, tpr)\n",
    "ax.set_title('ROC-curve')\n",
    "ax.set_ylabel('True-positive rate')\n",
    "ax.set_xlabel('False-positive rate')"
   ]
  },
  {
   "cell_type": "code",
   "execution_count": 14,
   "metadata": {
    "colab": {
     "base_uri": "https://localhost:8080/"
    },
    "id": "4ZIw8DCVnjPm",
    "outputId": "d5757d04-e338-4013-e13b-646b17a4d03c"
   },
   "outputs": [
    {
     "name": "stdout",
     "output_type": "stream",
     "text": [
      "ROC-AUC: 0.9258312084456222\n",
      "PR-AUC: 0.9243943788890165\n"
     ]
    }
   ],
   "source": [
    "print('ROC-AUC:', auc(fpr, tpr))\n",
    "print('PR-AUC:', auc(recall, precision))"
   ]
  },
  {
   "cell_type": "markdown",
   "metadata": {
    "id": "IsfhQXQkrl-Y"
   },
   "source": [
    "__Интерпретация:__  \n",
    "Модель выдает достаточно точные предсказания, так как площади под PR и ROC кривыми показывают результат намного больший, чем 0.5.\n",
    "По PR кривой можем видеть, что у нас есть возможность выбрать порог, который будет соответствовать бизнес требованиям для выбора точности - полноты."
   ]
  },
  {
   "cell_type": "markdown",
   "metadata": {
    "id": "TCq0EKk2SWQm"
   },
   "source": [
    "## Часть 2. Работа с категориальными переменными (3 балла)"
   ]
  },
  {
   "cell_type": "markdown",
   "metadata": {
    "id": "5wacWISGSWQn"
   },
   "source": [
    "В этой части мы научимся обрабатывать категориальные переменные, так как закодировать их в виде чисел недостаточно (это задаёт некоторый порядок, которого на категориальных переменных может и не быть). Существует два основных способа обработки категориальных значений:\n",
    "- One-hot-кодирование\n",
    "- Счётчики (CTR, mean-target кодирование, ...) — каждый категориальный признак заменяется на среднее значение целевой переменной по всем объектам, имеющим одинаковое значение в этом признаке.\n",
    "\n",
    "Начнём с one-hot-кодирования. Допустим наш категориальный признак $f_j(x)$ принимает значения из множества $C=\\{c_1, \\dots, c_m\\}$. Заменим его на $m$ бинарных признаков $b_1(x), \\dots, b_m(x)$, каждый из которых является индикатором одного из возможных категориальных значений:\n",
    "$$\n",
    "b_i(x) = [f_j(x) = c_i]\n",
    "$$"
   ]
  },
  {
   "cell_type": "markdown",
   "metadata": {
    "ExecuteTime": {
     "end_time": "2018-10-11T20:41:54.913436Z",
     "start_time": "2018-10-11T20:41:54.907515Z"
    },
    "id": "Mdg1xMdvSWQn"
   },
   "source": [
    "__Подготовка данных.__\n",
    "\n",
    "Загрузим данные с конкурса  [Kaggle Porto Seguro’s Safe Driver Prediction](https://www.kaggle.com/c/porto-seguro-safe-driver-prediction) (вам нужна только обучающая выборка). Задача состоит в определении водителей, которые в ближайший год воспользуются своей автомобильной страховкой (бинарная классификация). Но для нас важна будет не сама задача, а только её данные. При этом для задания мы немного модифицируем датасет."
   ]
  },
  {
   "cell_type": "code",
   "execution_count": 15,
   "metadata": {
    "ExecuteTime": {
     "end_time": "2018-10-12T07:36:04.765536Z",
     "start_time": "2018-10-12T07:35:57.814973Z"
    },
    "id": "k6Yf9LY8SWQo"
   },
   "outputs": [],
   "source": [
    "# url='https://drive.google.com/file/d/1Z4pR_Kg3kUcsEOCBI8D-rvZi9r5cfmnx/view?usp=sharing'\n",
    "# url='https://drive.google.com/uc?export=download&id=' + url.split('/')[-2]\n",
    "data = pd.read_csv('data/train.csv', index_col=0)\n",
    "target = data.target.values\n",
    "data = data.drop('target', axis=1)"
   ]
  },
  {
   "cell_type": "code",
   "execution_count": 16,
   "metadata": {
    "colab": {
     "base_uri": "https://localhost:8080/",
     "height": 220
    },
    "id": "svS7aYEiwghv",
    "outputId": "34e308b4-c563-4962-db1b-12c80a1e3cb7"
   },
   "outputs": [
    {
     "data": {
      "text/html": [
       "<div>\n",
       "<style scoped>\n",
       "    .dataframe tbody tr th:only-of-type {\n",
       "        vertical-align: middle;\n",
       "    }\n",
       "\n",
       "    .dataframe tbody tr th {\n",
       "        vertical-align: top;\n",
       "    }\n",
       "\n",
       "    .dataframe thead th {\n",
       "        text-align: right;\n",
       "    }\n",
       "</style>\n",
       "<table border=\"1\" class=\"dataframe\">\n",
       "  <thead>\n",
       "    <tr style=\"text-align: right;\">\n",
       "      <th></th>\n",
       "      <th>ps_ind_01</th>\n",
       "      <th>ps_ind_02_cat</th>\n",
       "      <th>ps_ind_03</th>\n",
       "      <th>ps_ind_04_cat</th>\n",
       "      <th>ps_ind_05_cat</th>\n",
       "      <th>ps_ind_06_bin</th>\n",
       "      <th>ps_ind_07_bin</th>\n",
       "      <th>ps_ind_08_bin</th>\n",
       "      <th>ps_ind_09_bin</th>\n",
       "      <th>ps_ind_10_bin</th>\n",
       "      <th>...</th>\n",
       "      <th>ps_calc_11</th>\n",
       "      <th>ps_calc_12</th>\n",
       "      <th>ps_calc_13</th>\n",
       "      <th>ps_calc_14</th>\n",
       "      <th>ps_calc_15_bin</th>\n",
       "      <th>ps_calc_16_bin</th>\n",
       "      <th>ps_calc_17_bin</th>\n",
       "      <th>ps_calc_18_bin</th>\n",
       "      <th>ps_calc_19_bin</th>\n",
       "      <th>ps_calc_20_bin</th>\n",
       "    </tr>\n",
       "    <tr>\n",
       "      <th>id</th>\n",
       "      <th></th>\n",
       "      <th></th>\n",
       "      <th></th>\n",
       "      <th></th>\n",
       "      <th></th>\n",
       "      <th></th>\n",
       "      <th></th>\n",
       "      <th></th>\n",
       "      <th></th>\n",
       "      <th></th>\n",
       "      <th></th>\n",
       "      <th></th>\n",
       "      <th></th>\n",
       "      <th></th>\n",
       "      <th></th>\n",
       "      <th></th>\n",
       "      <th></th>\n",
       "      <th></th>\n",
       "      <th></th>\n",
       "      <th></th>\n",
       "      <th></th>\n",
       "    </tr>\n",
       "  </thead>\n",
       "  <tbody>\n",
       "    <tr>\n",
       "      <th>7</th>\n",
       "      <td>2</td>\n",
       "      <td>2</td>\n",
       "      <td>5</td>\n",
       "      <td>1</td>\n",
       "      <td>0</td>\n",
       "      <td>0</td>\n",
       "      <td>1</td>\n",
       "      <td>0</td>\n",
       "      <td>0</td>\n",
       "      <td>0</td>\n",
       "      <td>...</td>\n",
       "      <td>9</td>\n",
       "      <td>1</td>\n",
       "      <td>5</td>\n",
       "      <td>8</td>\n",
       "      <td>0</td>\n",
       "      <td>1</td>\n",
       "      <td>1</td>\n",
       "      <td>0</td>\n",
       "      <td>0</td>\n",
       "      <td>1</td>\n",
       "    </tr>\n",
       "    <tr>\n",
       "      <th>9</th>\n",
       "      <td>1</td>\n",
       "      <td>1</td>\n",
       "      <td>7</td>\n",
       "      <td>0</td>\n",
       "      <td>0</td>\n",
       "      <td>0</td>\n",
       "      <td>0</td>\n",
       "      <td>1</td>\n",
       "      <td>0</td>\n",
       "      <td>0</td>\n",
       "      <td>...</td>\n",
       "      <td>3</td>\n",
       "      <td>1</td>\n",
       "      <td>1</td>\n",
       "      <td>9</td>\n",
       "      <td>0</td>\n",
       "      <td>1</td>\n",
       "      <td>1</td>\n",
       "      <td>0</td>\n",
       "      <td>1</td>\n",
       "      <td>0</td>\n",
       "    </tr>\n",
       "    <tr>\n",
       "      <th>13</th>\n",
       "      <td>5</td>\n",
       "      <td>4</td>\n",
       "      <td>9</td>\n",
       "      <td>1</td>\n",
       "      <td>0</td>\n",
       "      <td>0</td>\n",
       "      <td>0</td>\n",
       "      <td>1</td>\n",
       "      <td>0</td>\n",
       "      <td>0</td>\n",
       "      <td>...</td>\n",
       "      <td>4</td>\n",
       "      <td>2</td>\n",
       "      <td>7</td>\n",
       "      <td>7</td>\n",
       "      <td>0</td>\n",
       "      <td>1</td>\n",
       "      <td>1</td>\n",
       "      <td>0</td>\n",
       "      <td>1</td>\n",
       "      <td>0</td>\n",
       "    </tr>\n",
       "  </tbody>\n",
       "</table>\n",
       "<p>3 rows × 57 columns</p>\n",
       "</div>"
      ],
      "text/plain": [
       "    ps_ind_01  ps_ind_02_cat  ps_ind_03  ps_ind_04_cat  ps_ind_05_cat  \\\n",
       "id                                                                      \n",
       "7           2              2          5              1              0   \n",
       "9           1              1          7              0              0   \n",
       "13          5              4          9              1              0   \n",
       "\n",
       "    ps_ind_06_bin  ps_ind_07_bin  ps_ind_08_bin  ps_ind_09_bin  ps_ind_10_bin  \\\n",
       "id                                                                              \n",
       "7               0              1              0              0              0   \n",
       "9               0              0              1              0              0   \n",
       "13              0              0              1              0              0   \n",
       "\n",
       "    ...  ps_calc_11  ps_calc_12  ps_calc_13  ps_calc_14  ps_calc_15_bin  \\\n",
       "id  ...                                                                   \n",
       "7   ...           9           1           5           8               0   \n",
       "9   ...           3           1           1           9               0   \n",
       "13  ...           4           2           7           7               0   \n",
       "\n",
       "    ps_calc_16_bin  ps_calc_17_bin  ps_calc_18_bin  ps_calc_19_bin  \\\n",
       "id                                                                   \n",
       "7                1               1               0               0   \n",
       "9                1               1               0               1   \n",
       "13               1               1               0               1   \n",
       "\n",
       "    ps_calc_20_bin  \n",
       "id                  \n",
       "7                1  \n",
       "9                0  \n",
       "13               0  \n",
       "\n",
       "[3 rows x 57 columns]"
      ]
     },
     "execution_count": 16,
     "metadata": {},
     "output_type": "execute_result"
    }
   ],
   "source": [
    "data.head(3)"
   ]
  },
  {
   "cell_type": "markdown",
   "metadata": {
    "id": "ukdqQgJnSWQp"
   },
   "source": [
    "Пересемплируем выборку так, чтобы положительных и отрицательных объектов в выборке было одинаковое число. Разделим на обучающую и тестовую выборки.\n"
   ]
  },
  {
   "cell_type": "code",
   "execution_count": 17,
   "metadata": {
    "ExecuteTime": {
     "end_time": "2018-10-12T07:36:05.368407Z",
     "start_time": "2018-10-12T07:36:04.770388Z"
    },
    "id": "hdnaaPKiSWQp"
   },
   "outputs": [],
   "source": [
    "# some resampling\n",
    "np.random.seed(910)\n",
    "mask_plus = np.random.choice(np.where(target == 1)[0], 100000, replace=True)\n",
    "mask_zero = np.random.choice(np.where(target == 0)[0], 100000, replace=True)\n",
    "\n",
    "data = pd.concat((data.iloc[mask_plus], data.iloc[mask_zero]))\n",
    "target = np.hstack((target[mask_plus], target[mask_zero]))\n",
    "\n",
    "X_train, X_test, y_train, y_test = train_test_split(data, target, test_size=0.5)"
   ]
  },
  {
   "cell_type": "markdown",
   "metadata": {
    "id": "jBuiIlNmSWQp"
   },
   "source": [
    "**Задание 5 (0 баллов).** Посчитайте качество (в этом задании будем работать c ROC-AUC) на исходных признаках при применении логистической регрессии."
   ]
  },
  {
   "cell_type": "code",
   "execution_count": 18,
   "metadata": {
    "ExecuteTime": {
     "end_time": "2018-10-11T20:39:43.088969Z",
     "start_time": "2018-10-11T20:39:43.084985Z"
    },
    "colab": {
     "base_uri": "https://localhost:8080/",
     "height": 151
    },
    "id": "ijB9Da8VSWQl",
    "outputId": "2d233e50-f977-473e-bc78-5fbbd9ce49ca"
   },
   "outputs": [
    {
     "name": "stderr",
     "output_type": "stream",
     "text": [
      "/tmp/ipykernel_6646/2341408568.py:93: RuntimeWarning: overflow encountered in exp\n",
      "  probas = 1 / (1 + np.exp(-args))\n"
     ]
    },
    {
     "data": {
      "text/html": [
       "<style>#sk-container-id-2 {color: black;}#sk-container-id-2 pre{padding: 0;}#sk-container-id-2 div.sk-toggleable {background-color: white;}#sk-container-id-2 label.sk-toggleable__label {cursor: pointer;display: block;width: 100%;margin-bottom: 0;padding: 0.3em;box-sizing: border-box;text-align: center;}#sk-container-id-2 label.sk-toggleable__label-arrow:before {content: \"▸\";float: left;margin-right: 0.25em;color: #696969;}#sk-container-id-2 label.sk-toggleable__label-arrow:hover:before {color: black;}#sk-container-id-2 div.sk-estimator:hover label.sk-toggleable__label-arrow:before {color: black;}#sk-container-id-2 div.sk-toggleable__content {max-height: 0;max-width: 0;overflow: hidden;text-align: left;background-color: #f0f8ff;}#sk-container-id-2 div.sk-toggleable__content pre {margin: 0.2em;color: black;border-radius: 0.25em;background-color: #f0f8ff;}#sk-container-id-2 input.sk-toggleable__control:checked~div.sk-toggleable__content {max-height: 200px;max-width: 100%;overflow: auto;}#sk-container-id-2 input.sk-toggleable__control:checked~label.sk-toggleable__label-arrow:before {content: \"▾\";}#sk-container-id-2 div.sk-estimator input.sk-toggleable__control:checked~label.sk-toggleable__label {background-color: #d4ebff;}#sk-container-id-2 div.sk-label input.sk-toggleable__control:checked~label.sk-toggleable__label {background-color: #d4ebff;}#sk-container-id-2 input.sk-hidden--visually {border: 0;clip: rect(1px 1px 1px 1px);clip: rect(1px, 1px, 1px, 1px);height: 1px;margin: -1px;overflow: hidden;padding: 0;position: absolute;width: 1px;}#sk-container-id-2 div.sk-estimator {font-family: monospace;background-color: #f0f8ff;border: 1px dotted black;border-radius: 0.25em;box-sizing: border-box;margin-bottom: 0.5em;}#sk-container-id-2 div.sk-estimator:hover {background-color: #d4ebff;}#sk-container-id-2 div.sk-parallel-item::after {content: \"\";width: 100%;border-bottom: 1px solid gray;flex-grow: 1;}#sk-container-id-2 div.sk-label:hover label.sk-toggleable__label {background-color: #d4ebff;}#sk-container-id-2 div.sk-serial::before {content: \"\";position: absolute;border-left: 1px solid gray;box-sizing: border-box;top: 0;bottom: 0;left: 50%;z-index: 0;}#sk-container-id-2 div.sk-serial {display: flex;flex-direction: column;align-items: center;background-color: white;padding-right: 0.2em;padding-left: 0.2em;position: relative;}#sk-container-id-2 div.sk-item {position: relative;z-index: 1;}#sk-container-id-2 div.sk-parallel {display: flex;align-items: stretch;justify-content: center;background-color: white;position: relative;}#sk-container-id-2 div.sk-item::before, #sk-container-id-2 div.sk-parallel-item::before {content: \"\";position: absolute;border-left: 1px solid gray;box-sizing: border-box;top: 0;bottom: 0;left: 50%;z-index: -1;}#sk-container-id-2 div.sk-parallel-item {display: flex;flex-direction: column;z-index: 1;position: relative;background-color: white;}#sk-container-id-2 div.sk-parallel-item:first-child::after {align-self: flex-end;width: 50%;}#sk-container-id-2 div.sk-parallel-item:last-child::after {align-self: flex-start;width: 50%;}#sk-container-id-2 div.sk-parallel-item:only-child::after {width: 0;}#sk-container-id-2 div.sk-dashed-wrapped {border: 1px dashed gray;margin: 0 0.4em 0.5em 0.4em;box-sizing: border-box;padding-bottom: 0.4em;background-color: white;}#sk-container-id-2 div.sk-label label {font-family: monospace;font-weight: bold;display: inline-block;line-height: 1.2em;}#sk-container-id-2 div.sk-label-container {text-align: center;}#sk-container-id-2 div.sk-container {/* jupyter's `normalize.less` sets `[hidden] { display: none; }` but bootstrap.min.css set `[hidden] { display: none !important; }` so we also need the `!important` here to be able to override the default hidden behavior on the sphinx rendered scikit-learn.org. See: https://github.com/scikit-learn/scikit-learn/issues/21755 */display: inline-block !important;position: relative;}#sk-container-id-2 div.sk-text-repr-fallback {display: none;}</style><div id=\"sk-container-id-2\" class=\"sk-top-container\"><div class=\"sk-text-repr-fallback\"><pre>LogReg(batch_size=700, eta=0.005, tolerance=1e-06,\n",
       "       w0=array([[0.30444984],\n",
       "       [0.19237953],\n",
       "       [0.44278697],\n",
       "       [0.76778353],\n",
       "       [0.55447708],\n",
       "       [0.43041852],\n",
       "       [0.45334453],\n",
       "       [0.29333677],\n",
       "       [0.52366357],\n",
       "       [0.14781632],\n",
       "       [0.9842912 ],\n",
       "       [0.00192214],\n",
       "       [0.71001759],\n",
       "       [0.84633674],\n",
       "       [0.93511255],\n",
       "       [0.019947  ],\n",
       "       [0.28117315],\n",
       "       [0.99064638],\n",
       "       [0.19221347],\n",
       "       [0.32538535],\n",
       "       [0.6825204 ],\n",
       "       [0.31130945],\n",
       "       [0.7162212...\n",
       "       [0.48451478],\n",
       "       [0.96410614],\n",
       "       [0.62824088],\n",
       "       [0.4484861 ],\n",
       "       [0.83876776],\n",
       "       [0.96452084],\n",
       "       [0.75242165],\n",
       "       [0.50389698],\n",
       "       [0.93618437],\n",
       "       [0.61801371],\n",
       "       [0.08828875],\n",
       "       [0.98466441],\n",
       "       [0.79324955],\n",
       "       [0.41552218],\n",
       "       [0.73946226],\n",
       "       [0.62915611],\n",
       "       [0.6610652 ],\n",
       "       [0.97113709],\n",
       "       [0.45895989],\n",
       "       [0.85002813],\n",
       "       [0.58221012],\n",
       "       [0.20060806],\n",
       "       [0.14164384],\n",
       "       [0.01464165],\n",
       "       [0.06281423],\n",
       "       [0.66002195],\n",
       "       [0.28629182]]))</pre><b>In a Jupyter environment, please rerun this cell to show the HTML representation or trust the notebook. <br />On GitHub, the HTML representation is unable to render, please try loading this page with nbviewer.org.</b></div><div class=\"sk-container\" hidden><div class=\"sk-item\"><div class=\"sk-estimator sk-toggleable\"><input class=\"sk-toggleable__control sk-hidden--visually\" id=\"sk-estimator-id-2\" type=\"checkbox\" checked><label for=\"sk-estimator-id-2\" class=\"sk-toggleable__label sk-toggleable__label-arrow\">LogReg</label><div class=\"sk-toggleable__content\"><pre>LogReg(batch_size=700, eta=0.005, tolerance=1e-06,\n",
       "       w0=array([[0.30444984],\n",
       "       [0.19237953],\n",
       "       [0.44278697],\n",
       "       [0.76778353],\n",
       "       [0.55447708],\n",
       "       [0.43041852],\n",
       "       [0.45334453],\n",
       "       [0.29333677],\n",
       "       [0.52366357],\n",
       "       [0.14781632],\n",
       "       [0.9842912 ],\n",
       "       [0.00192214],\n",
       "       [0.71001759],\n",
       "       [0.84633674],\n",
       "       [0.93511255],\n",
       "       [0.019947  ],\n",
       "       [0.28117315],\n",
       "       [0.99064638],\n",
       "       [0.19221347],\n",
       "       [0.32538535],\n",
       "       [0.6825204 ],\n",
       "       [0.31130945],\n",
       "       [0.7162212...\n",
       "       [0.48451478],\n",
       "       [0.96410614],\n",
       "       [0.62824088],\n",
       "       [0.4484861 ],\n",
       "       [0.83876776],\n",
       "       [0.96452084],\n",
       "       [0.75242165],\n",
       "       [0.50389698],\n",
       "       [0.93618437],\n",
       "       [0.61801371],\n",
       "       [0.08828875],\n",
       "       [0.98466441],\n",
       "       [0.79324955],\n",
       "       [0.41552218],\n",
       "       [0.73946226],\n",
       "       [0.62915611],\n",
       "       [0.6610652 ],\n",
       "       [0.97113709],\n",
       "       [0.45895989],\n",
       "       [0.85002813],\n",
       "       [0.58221012],\n",
       "       [0.20060806],\n",
       "       [0.14164384],\n",
       "       [0.01464165],\n",
       "       [0.06281423],\n",
       "       [0.66002195],\n",
       "       [0.28629182]]))</pre></div></div></div></div></div>"
      ],
      "text/plain": [
       "LogReg(batch_size=700, eta=0.005, tolerance=1e-06,\n",
       "       w0=array([[0.30444984],\n",
       "       [0.19237953],\n",
       "       [0.44278697],\n",
       "       [0.76778353],\n",
       "       [0.55447708],\n",
       "       [0.43041852],\n",
       "       [0.45334453],\n",
       "       [0.29333677],\n",
       "       [0.52366357],\n",
       "       [0.14781632],\n",
       "       [0.9842912 ],\n",
       "       [0.00192214],\n",
       "       [0.71001759],\n",
       "       [0.84633674],\n",
       "       [0.93511255],\n",
       "       [0.019947  ],\n",
       "       [0.28117315],\n",
       "       [0.99064638],\n",
       "       [0.19221347],\n",
       "       [0.32538535],\n",
       "       [0.6825204 ],\n",
       "       [0.31130945],\n",
       "       [0.7162212...\n",
       "       [0.48451478],\n",
       "       [0.96410614],\n",
       "       [0.62824088],\n",
       "       [0.4484861 ],\n",
       "       [0.83876776],\n",
       "       [0.96452084],\n",
       "       [0.75242165],\n",
       "       [0.50389698],\n",
       "       [0.93618437],\n",
       "       [0.61801371],\n",
       "       [0.08828875],\n",
       "       [0.98466441],\n",
       "       [0.79324955],\n",
       "       [0.41552218],\n",
       "       [0.73946226],\n",
       "       [0.62915611],\n",
       "       [0.6610652 ],\n",
       "       [0.97113709],\n",
       "       [0.45895989],\n",
       "       [0.85002813],\n",
       "       [0.58221012],\n",
       "       [0.20060806],\n",
       "       [0.14164384],\n",
       "       [0.01464165],\n",
       "       [0.06281423],\n",
       "       [0.66002195],\n",
       "       [0.28629182]]))"
      ]
     },
     "execution_count": 18,
     "metadata": {},
     "output_type": "execute_result"
    }
   ],
   "source": [
    "### ╰( ͡° ͜ʖ ͡° )つ──☆*:・ﾟ\n",
    "log_model_2 = LogReg(gd_type='stochastic', max_iter=1000, eta=5e-3, tolerance=1e-6,batch_size=700)\n",
    "log_model_2.fit(X_train, y_train)"
   ]
  },
  {
   "cell_type": "code",
   "execution_count": 19,
   "metadata": {},
   "outputs": [
    {
     "name": "stdout",
     "output_type": "stream",
     "text": [
      "1.285305602900041\n",
      "1.2462114531892998\n"
     ]
    },
    {
     "data": {
      "text/plain": [
       "Text(0.5, 1.0, 'Loss')"
      ]
     },
     "execution_count": 19,
     "metadata": {},
     "output_type": "execute_result"
    },
    {
     "data": {
      "image/png": "[encoded data removed]",
      "text/plain": [
       "<Figure size 640x480 with 1 Axes>"
      ]
     },
     "metadata": {},
     "output_type": "display_data"
    }
   ],
   "source": [
    "print(log_model_2.loss_history[-1])\n",
    "print(log_model_2.calc_loss(X_train, y_train))\n",
    "plt.plot(log_model_2.loss_history)\n",
    "plt.title('Loss')"
   ]
  },
  {
   "cell_type": "code",
   "execution_count": 20,
   "metadata": {
    "id": "bcw3f1vESWQm"
   },
   "outputs": [],
   "source": [
    "pred_probas_2 = log_model_2.predict_proba(X_test)"
   ]
  },
  {
   "cell_type": "code",
   "execution_count": 21,
   "metadata": {
    "colab": {
     "base_uri": "https://localhost:8080/",
     "height": 427
    },
    "id": "-twDwT_MqQTT",
    "outputId": "da6f20b3-1e94-4ffa-8b4d-2ecbf8f1a145"
   },
   "outputs": [
    {
     "data": {
      "text/plain": [
       "Text(0.5, 0, 'False-positive rate')"
      ]
     },
     "execution_count": 21,
     "metadata": {},
     "output_type": "execute_result"
    },
    {
     "data": {
      "image/png": "[encoded data removed]",
      "text/plain": [
       "<Figure size 600x400 with 1 Axes>"
      ]
     },
     "metadata": {},
     "output_type": "display_data"
    }
   ],
   "source": [
    "fpr, tpr, thresholds = roc_curve(y_test, pred_probas_2)\n",
    "\n",
    "fig, ax = plt.subplots(figsize=(6, 4))\n",
    "\n",
    "plt.plot(fpr, tpr)\n",
    "ax.set_title('ROC-curve')\n",
    "ax.set_ylabel('True-positive rate')\n",
    "ax.set_xlabel('False-positive rate')"
   ]
  },
  {
   "cell_type": "code",
   "execution_count": 22,
   "metadata": {
    "colab": {
     "base_uri": "https://localhost:8080/"
    },
    "id": "4ZIw8DCVnjPm",
    "outputId": "d5757d04-e338-4013-e13b-646b17a4d03c"
   },
   "outputs": [
    {
     "name": "stdout",
     "output_type": "stream",
     "text": [
      "ROC-AUC: 0.6005002210472032\n"
     ]
    }
   ],
   "source": [
    "print('ROC-AUC:', auc(fpr, tpr))"
   ]
  },
  {
   "cell_type": "markdown",
   "metadata": {
    "id": "vC-rrs1tSWQq"
   },
   "source": [
    "**Задание 6 (0.5 балла).** Закодируйте все категориальные признаки с помощью one-hot-кодирования. Обучите логистическую регрессию и посмотрите, как изменилось качество модели (с тем, что было до кодирования). Измерьте время, потребовавшееся на обучение модели."
   ]
  },
  {
   "cell_type": "code",
   "execution_count": 23,
   "metadata": {},
   "outputs": [],
   "source": [
    "from sklearn.preprocessing import OneHotEncoder"
   ]
  },
  {
   "cell_type": "code",
   "execution_count": 24,
   "metadata": {
    "id": "gwYkkO9iSWQr"
   },
   "outputs": [],
   "source": [
    "### ╰( ͡° ͜ʖ ͡° )つ──☆*:・ﾟ\n",
    "cat_features = [col for col in data.columns if 'cat' in col]"
   ]
  },
  {
   "cell_type": "code",
   "execution_count": 25,
   "metadata": {},
   "outputs": [],
   "source": [
    "encoder = OneHotEncoder(drop='first', handle_unknown='ignore')\n",
    "encoder.fit(X_train[cat_features])\n",
    "\n",
    "X_train.reset_index(drop=True, inplace=True)\n",
    "X_test.reset_index(drop=True, inplace=True)\n",
    "\n",
    "X_train_cat_hot_only = pd.DataFrame.sparse.from_spmatrix(\n",
    "    encoder.transform(X_train[cat_features]),\n",
    "    columns=encoder.get_feature_names_out()\n",
    "    )\n",
    "\n",
    "X_test_cat_hot_only = pd.DataFrame.sparse.from_spmatrix(\n",
    "    encoder.transform(X_test[cat_features]),\n",
    "    columns=encoder.get_feature_names_out()\n",
    "    )\n",
    "\n",
    "X_train_cat = X_train.drop(cat_features, axis=1).join(X_train_cat_hot_only)\n",
    "X_test_cat = X_test.drop(cat_features, axis=1).join(X_test_cat_hot_only)"
   ]
  },
  {
   "cell_type": "code",
   "execution_count": 26,
   "metadata": {
    "ExecuteTime": {
     "end_time": "2018-10-11T20:39:43.088969Z",
     "start_time": "2018-10-11T20:39:43.084985Z"
    },
    "colab": {
     "base_uri": "https://localhost:8080/",
     "height": 151
    },
    "id": "ijB9Da8VSWQl",
    "outputId": "2d233e50-f977-473e-bc78-5fbbd9ce49ca",
    "scrolled": true
   },
   "outputs": [
    {
     "name": "stdout",
     "output_type": "stream",
     "text": [
      "CPU times: user 1e+03 ns, sys: 0 ns, total: 1e+03 ns\n",
      "Wall time: 2.15 µs\n"
     ]
    },
    {
     "name": "stderr",
     "output_type": "stream",
     "text": [
      "/tmp/ipykernel_6646/2341408568.py:93: RuntimeWarning: overflow encountered in exp\n",
      "  probas = 1 / (1 + np.exp(-args))\n"
     ]
    },
    {
     "data": {
      "text/html": [
       "<style>#sk-container-id-3 {color: black;}#sk-container-id-3 pre{padding: 0;}#sk-container-id-3 div.sk-toggleable {background-color: white;}#sk-container-id-3 label.sk-toggleable__label {cursor: pointer;display: block;width: 100%;margin-bottom: 0;padding: 0.3em;box-sizing: border-box;text-align: center;}#sk-container-id-3 label.sk-toggleable__label-arrow:before {content: \"▸\";float: left;margin-right: 0.25em;color: #696969;}#sk-container-id-3 label.sk-toggleable__label-arrow:hover:before {color: black;}#sk-container-id-3 div.sk-estimator:hover label.sk-toggleable__label-arrow:before {color: black;}#sk-container-id-3 div.sk-toggleable__content {max-height: 0;max-width: 0;overflow: hidden;text-align: left;background-color: #f0f8ff;}#sk-container-id-3 div.sk-toggleable__content pre {margin: 0.2em;color: black;border-radius: 0.25em;background-color: #f0f8ff;}#sk-container-id-3 input.sk-toggleable__control:checked~div.sk-toggleable__content {max-height: 200px;max-width: 100%;overflow: auto;}#sk-container-id-3 input.sk-toggleable__control:checked~label.sk-toggleable__label-arrow:before {content: \"▾\";}#sk-container-id-3 div.sk-estimator input.sk-toggleable__control:checked~label.sk-toggleable__label {background-color: #d4ebff;}#sk-container-id-3 div.sk-label input.sk-toggleable__control:checked~label.sk-toggleable__label {background-color: #d4ebff;}#sk-container-id-3 input.sk-hidden--visually {border: 0;clip: rect(1px 1px 1px 1px);clip: rect(1px, 1px, 1px, 1px);height: 1px;margin: -1px;overflow: hidden;padding: 0;position: absolute;width: 1px;}#sk-container-id-3 div.sk-estimator {font-family: monospace;background-color: #f0f8ff;border: 1px dotted black;border-radius: 0.25em;box-sizing: border-box;margin-bottom: 0.5em;}#sk-container-id-3 div.sk-estimator:hover {background-color: #d4ebff;}#sk-container-id-3 div.sk-parallel-item::after {content: \"\";width: 100%;border-bottom: 1px solid gray;flex-grow: 1;}#sk-container-id-3 div.sk-label:hover label.sk-toggleable__label {background-color: #d4ebff;}#sk-container-id-3 div.sk-serial::before {content: \"\";position: absolute;border-left: 1px solid gray;box-sizing: border-box;top: 0;bottom: 0;left: 50%;z-index: 0;}#sk-container-id-3 div.sk-serial {display: flex;flex-direction: column;align-items: center;background-color: white;padding-right: 0.2em;padding-left: 0.2em;position: relative;}#sk-container-id-3 div.sk-item {position: relative;z-index: 1;}#sk-container-id-3 div.sk-parallel {display: flex;align-items: stretch;justify-content: center;background-color: white;position: relative;}#sk-container-id-3 div.sk-item::before, #sk-container-id-3 div.sk-parallel-item::before {content: \"\";position: absolute;border-left: 1px solid gray;box-sizing: border-box;top: 0;bottom: 0;left: 50%;z-index: -1;}#sk-container-id-3 div.sk-parallel-item {display: flex;flex-direction: column;z-index: 1;position: relative;background-color: white;}#sk-container-id-3 div.sk-parallel-item:first-child::after {align-self: flex-end;width: 50%;}#sk-container-id-3 div.sk-parallel-item:last-child::after {align-self: flex-start;width: 50%;}#sk-container-id-3 div.sk-parallel-item:only-child::after {width: 0;}#sk-container-id-3 div.sk-dashed-wrapped {border: 1px dashed gray;margin: 0 0.4em 0.5em 0.4em;box-sizing: border-box;padding-bottom: 0.4em;background-color: white;}#sk-container-id-3 div.sk-label label {font-family: monospace;font-weight: bold;display: inline-block;line-height: 1.2em;}#sk-container-id-3 div.sk-label-container {text-align: center;}#sk-container-id-3 div.sk-container {/* jupyter's `normalize.less` sets `[hidden] { display: none; }` but bootstrap.min.css set `[hidden] { display: none !important; }` so we also need the `!important` here to be able to override the default hidden behavior on the sphinx rendered scikit-learn.org. See: https://github.com/scikit-learn/scikit-learn/issues/21755 */display: inline-block !important;position: relative;}#sk-container-id-3 div.sk-text-repr-fallback {display: none;}</style><div id=\"sk-container-id-3\" class=\"sk-top-container\"><div class=\"sk-text-repr-fallback\"><pre>LogReg(batch_size=500, eta=0.005, max_iter=2000,\n",
       "       w0=array([[0.69229457],\n",
       "       [0.27126607],\n",
       "       [0.03220757],\n",
       "       [0.68729906],\n",
       "       [0.24053654],\n",
       "       [0.0615985 ],\n",
       "       [0.87220863],\n",
       "       [0.09155502],\n",
       "       [0.40282996],\n",
       "       [0.60693291],\n",
       "       [0.7880858 ],\n",
       "       [0.10262797],\n",
       "       [0.57945403],\n",
       "       [0.10413877],\n",
       "       [0.31790692],\n",
       "       [0.50603067],\n",
       "       [0.71754826],\n",
       "       [0.05017818],\n",
       "       [0.26797173],\n",
       "       [0.61743049],\n",
       "       [0.92978993],\n",
       "       [0.27568331],\n",
       "       [0.5670974...\n",
       "       [0.43523048],\n",
       "       [0.90928027],\n",
       "       [0.66427399],\n",
       "       [0.75937478],\n",
       "       [0.67276417],\n",
       "       [0.21744703],\n",
       "       [0.28812713],\n",
       "       [0.08714194],\n",
       "       [0.49988935],\n",
       "       [0.75506885],\n",
       "       [0.66408075],\n",
       "       [0.60969078],\n",
       "       [0.38472791],\n",
       "       [0.61158247],\n",
       "       [0.77211677],\n",
       "       [0.38207675],\n",
       "       [0.91930954],\n",
       "       [0.38989623],\n",
       "       [0.12002715],\n",
       "       [0.22955873],\n",
       "       [0.72702374],\n",
       "       [0.9918795 ],\n",
       "       [0.89026272],\n",
       "       [0.2149434 ],\n",
       "       [0.26899004],\n",
       "       [0.1360406 ],\n",
       "       [0.96397721]]))</pre><b>In a Jupyter environment, please rerun this cell to show the HTML representation or trust the notebook. <br />On GitHub, the HTML representation is unable to render, please try loading this page with nbviewer.org.</b></div><div class=\"sk-container\" hidden><div class=\"sk-item\"><div class=\"sk-estimator sk-toggleable\"><input class=\"sk-toggleable__control sk-hidden--visually\" id=\"sk-estimator-id-3\" type=\"checkbox\" checked><label for=\"sk-estimator-id-3\" class=\"sk-toggleable__label sk-toggleable__label-arrow\">LogReg</label><div class=\"sk-toggleable__content\"><pre>LogReg(batch_size=500, eta=0.005, max_iter=2000,\n",
       "       w0=array([[0.69229457],\n",
       "       [0.27126607],\n",
       "       [0.03220757],\n",
       "       [0.68729906],\n",
       "       [0.24053654],\n",
       "       [0.0615985 ],\n",
       "       [0.87220863],\n",
       "       [0.09155502],\n",
       "       [0.40282996],\n",
       "       [0.60693291],\n",
       "       [0.7880858 ],\n",
       "       [0.10262797],\n",
       "       [0.57945403],\n",
       "       [0.10413877],\n",
       "       [0.31790692],\n",
       "       [0.50603067],\n",
       "       [0.71754826],\n",
       "       [0.05017818],\n",
       "       [0.26797173],\n",
       "       [0.61743049],\n",
       "       [0.92978993],\n",
       "       [0.27568331],\n",
       "       [0.5670974...\n",
       "       [0.43523048],\n",
       "       [0.90928027],\n",
       "       [0.66427399],\n",
       "       [0.75937478],\n",
       "       [0.67276417],\n",
       "       [0.21744703],\n",
       "       [0.28812713],\n",
       "       [0.08714194],\n",
       "       [0.49988935],\n",
       "       [0.75506885],\n",
       "       [0.66408075],\n",
       "       [0.60969078],\n",
       "       [0.38472791],\n",
       "       [0.61158247],\n",
       "       [0.77211677],\n",
       "       [0.38207675],\n",
       "       [0.91930954],\n",
       "       [0.38989623],\n",
       "       [0.12002715],\n",
       "       [0.22955873],\n",
       "       [0.72702374],\n",
       "       [0.9918795 ],\n",
       "       [0.89026272],\n",
       "       [0.2149434 ],\n",
       "       [0.26899004],\n",
       "       [0.1360406 ],\n",
       "       [0.96397721]]))</pre></div></div></div></div></div>"
      ],
      "text/plain": [
       "LogReg(batch_size=500, eta=0.005, max_iter=2000,\n",
       "       w0=array([[0.69229457],\n",
       "       [0.27126607],\n",
       "       [0.03220757],\n",
       "       [0.68729906],\n",
       "       [0.24053654],\n",
       "       [0.0615985 ],\n",
       "       [0.87220863],\n",
       "       [0.09155502],\n",
       "       [0.40282996],\n",
       "       [0.60693291],\n",
       "       [0.7880858 ],\n",
       "       [0.10262797],\n",
       "       [0.57945403],\n",
       "       [0.10413877],\n",
       "       [0.31790692],\n",
       "       [0.50603067],\n",
       "       [0.71754826],\n",
       "       [0.05017818],\n",
       "       [0.26797173],\n",
       "       [0.61743049],\n",
       "       [0.92978993],\n",
       "       [0.27568331],\n",
       "       [0.5670974...\n",
       "       [0.43523048],\n",
       "       [0.90928027],\n",
       "       [0.66427399],\n",
       "       [0.75937478],\n",
       "       [0.67276417],\n",
       "       [0.21744703],\n",
       "       [0.28812713],\n",
       "       [0.08714194],\n",
       "       [0.49988935],\n",
       "       [0.75506885],\n",
       "       [0.66408075],\n",
       "       [0.60969078],\n",
       "       [0.38472791],\n",
       "       [0.61158247],\n",
       "       [0.77211677],\n",
       "       [0.38207675],\n",
       "       [0.91930954],\n",
       "       [0.38989623],\n",
       "       [0.12002715],\n",
       "       [0.22955873],\n",
       "       [0.72702374],\n",
       "       [0.9918795 ],\n",
       "       [0.89026272],\n",
       "       [0.2149434 ],\n",
       "       [0.26899004],\n",
       "       [0.1360406 ],\n",
       "       [0.96397721]]))"
      ]
     },
     "execution_count": 26,
     "metadata": {},
     "output_type": "execute_result"
    }
   ],
   "source": [
    "### ╰( ͡° ͜ʖ ͡° )つ──☆*:・ﾟ\n",
    "log_model_ohe = LogReg(gd_type='stochastic', max_iter=2000, eta=0.005, tolerance=1e-4,batch_size=500)\n",
    "%time\n",
    "log_model_ohe.fit(X_train_cat, y_train)"
   ]
  },
  {
   "cell_type": "code",
   "execution_count": 27,
   "metadata": {},
   "outputs": [
    {
     "name": "stdout",
     "output_type": "stream",
     "text": [
      "0.748236301690619\n",
      "0.7565986686281746\n"
     ]
    },
    {
     "data": {
      "text/plain": [
       "Text(0.5, 1.0, 'Loss')"
      ]
     },
     "execution_count": 27,
     "metadata": {},
     "output_type": "execute_result"
    },
    {
     "data": {
      "image/png": "[encoded data removed]",
      "text/plain": [
       "<Figure size 640x480 with 1 Axes>"
      ]
     },
     "metadata": {},
     "output_type": "display_data"
    }
   ],
   "source": [
    "print(log_model_ohe.loss_history[-1])\n",
    "print(log_model_ohe.calc_loss(X_train_cat, y_train))\n",
    "plt.plot(log_model_ohe.loss_history)\n",
    "plt.title('Loss')"
   ]
  },
  {
   "cell_type": "code",
   "execution_count": 28,
   "metadata": {
    "id": "bcw3f1vESWQm"
   },
   "outputs": [],
   "source": [
    "pred_probas_ohe = log_model_ohe.predict_proba(X_test_cat)"
   ]
  },
  {
   "cell_type": "code",
   "execution_count": 29,
   "metadata": {
    "colab": {
     "base_uri": "https://localhost:8080/",
     "height": 427
    },
    "id": "-twDwT_MqQTT",
    "outputId": "da6f20b3-1e94-4ffa-8b4d-2ecbf8f1a145"
   },
   "outputs": [
    {
     "data": {
      "text/plain": [
       "Text(0.5, 0, 'False-positive rate')"
      ]
     },
     "execution_count": 29,
     "metadata": {},
     "output_type": "execute_result"
    },
    {
     "data": {
      "image/png": "[encoded data removed]",
      "text/plain": [
       "<Figure size 600x400 with 1 Axes>"
      ]
     },
     "metadata": {},
     "output_type": "display_data"
    }
   ],
   "source": [
    "fpr, tpr, thresholds = roc_curve(y_test, pred_probas_ohe)\n",
    "\n",
    "fig, ax = plt.subplots(figsize=(6, 4))\n",
    "\n",
    "plt.plot(fpr, tpr)\n",
    "ax.set_title('ROC-curve')\n",
    "ax.set_ylabel('True-positive rate')\n",
    "ax.set_xlabel('False-positive rate')"
   ]
  },
  {
   "cell_type": "code",
   "execution_count": 30,
   "metadata": {
    "colab": {
     "base_uri": "https://localhost:8080/"
    },
    "id": "4ZIw8DCVnjPm",
    "outputId": "d5757d04-e338-4013-e13b-646b17a4d03c"
   },
   "outputs": [
    {
     "name": "stdout",
     "output_type": "stream",
     "text": [
      "ROC-AUC: 0.5808687831645105\n"
     ]
    }
   ],
   "source": [
    "print('ROC-AUC:', auc(fpr, tpr))"
   ]
  },
  {
   "cell_type": "markdown",
   "metadata": {
    "id": "-Z_ccAPNSWQr"
   },
   "source": [
    "Как можно было заменить, one-hot-кодирование сильно увилечивает количество признаков в датасете, что сказывается на памяти, особенно, если некоторый признак имеет большое количество значений. Эту проблему решает другой способ кодирование категориальных признаков — счётчики. Основная идея в том, что нам важны не сами категории, а значения целевой переменной, которые имеют объекты этой категории. Каждый категориальный признак мы заменим средним значением целевой переменной по всем объектам этой же категории:\n",
    "$$\n",
    "g_j(x, X) = \\frac{\\sum_{i=1}^{l} [f_j(x) = f_j(x_i)][y_i = +1]}{\\sum_{i=1}^{l} [f_j(x) = f_j(x_i)]}\n",
    "$$\n",
    "\n",
    "__Задание 7 (1.5 балла).__ Закодируйте категориальные переменные с помощью счётчиков (ровно так, как описано выше, без каких-либо хитростей). Обучите логистическую регрессию и посмотрите на качество модели на тестовом множестве. Сравните время обучения с предыдущим экспериментом. Заметили ли вы что-то интересное?\n"
   ]
  },
  {
   "cell_type": "code",
   "execution_count": 54,
   "metadata": {},
   "outputs": [],
   "source": [
    "# tests\n",
    "test_df = pd.DataFrame({'cat': [1, 2, 1, 2, 2, 3, 3, 1, 1, 1]})\n",
    "y_for_test = np.array([1, 0, 0, 0, 1, 1, 1, 0, 1, 1])"
   ]
  },
  {
   "cell_type": "code",
   "execution_count": 56,
   "metadata": {},
   "outputs": [
    {
     "data": {
      "text/html": [
       "<div>\n",
       "<style scoped>\n",
       "    .dataframe tbody tr th:only-of-type {\n",
       "        vertical-align: middle;\n",
       "    }\n",
       "\n",
       "    .dataframe tbody tr th {\n",
       "        vertical-align: top;\n",
       "    }\n",
       "\n",
       "    .dataframe thead th {\n",
       "        text-align: right;\n",
       "    }\n",
       "</style>\n",
       "<table border=\"1\" class=\"dataframe\">\n",
       "  <thead>\n",
       "    <tr style=\"text-align: right;\">\n",
       "      <th></th>\n",
       "      <th>target</th>\n",
       "      <th>encoder</th>\n",
       "    </tr>\n",
       "  </thead>\n",
       "  <tbody>\n",
       "    <tr>\n",
       "      <th>0</th>\n",
       "      <td>1</td>\n",
       "      <td>0.3</td>\n",
       "    </tr>\n",
       "    <tr>\n",
       "      <th>1</th>\n",
       "      <td>0</td>\n",
       "      <td>0.1</td>\n",
       "    </tr>\n",
       "    <tr>\n",
       "      <th>2</th>\n",
       "      <td>0</td>\n",
       "      <td>0.3</td>\n",
       "    </tr>\n",
       "    <tr>\n",
       "      <th>3</th>\n",
       "      <td>0</td>\n",
       "      <td>0.1</td>\n",
       "    </tr>\n",
       "    <tr>\n",
       "      <th>4</th>\n",
       "      <td>1</td>\n",
       "      <td>0.1</td>\n",
       "    </tr>\n",
       "    <tr>\n",
       "      <th>5</th>\n",
       "      <td>1</td>\n",
       "      <td>0.2</td>\n",
       "    </tr>\n",
       "    <tr>\n",
       "      <th>6</th>\n",
       "      <td>1</td>\n",
       "      <td>0.2</td>\n",
       "    </tr>\n",
       "    <tr>\n",
       "      <th>7</th>\n",
       "      <td>0</td>\n",
       "      <td>0.3</td>\n",
       "    </tr>\n",
       "    <tr>\n",
       "      <th>8</th>\n",
       "      <td>1</td>\n",
       "      <td>0.3</td>\n",
       "    </tr>\n",
       "    <tr>\n",
       "      <th>9</th>\n",
       "      <td>1</td>\n",
       "      <td>0.3</td>\n",
       "    </tr>\n",
       "  </tbody>\n",
       "</table>\n",
       "</div>"
      ],
      "text/plain": [
       "   target  encoder\n",
       "0       1      0.3\n",
       "1       0      0.1\n",
       "2       0      0.3\n",
       "3       0      0.1\n",
       "4       1      0.1\n",
       "5       1      0.2\n",
       "6       1      0.2\n",
       "7       0      0.3\n",
       "8       1      0.3\n",
       "9       1      0.3"
      ]
     },
     "execution_count": 56,
     "metadata": {},
     "output_type": "execute_result"
    }
   ],
   "source": [
    "df_y = pd.DataFrame(y_for_test)\n",
    "df_y.columns = ['target']\n",
    "test_df = test_df.join(df_y)\n",
    "encode_table = test_df.groupby('cat').sum('target').reset_index()\n",
    "encode_table['encoder'] = encode_table['target'].apply(lambda x: x / total)\n",
    "encode_table = encode_table[['cat', 'encoder']]\n",
    "test_df.merge(encode_table, on=['cat'], how='left').drop('cat', axis=1)"
   ]
  },
  {
   "cell_type": "code",
   "execution_count": 62,
   "metadata": {
    "id": "i-ZkzELgSWQs"
   },
   "outputs": [],
   "source": [
    "### ╰( ͡° ͜ʖ ͡° )つ──☆*:・ﾟ\n",
    "def target_encoder(X: pd.DataFrame, y: np.array, cols: list):\n",
    "    X.reset_index(drop=True, inplace=True)\n",
    "    df_y = pd.DataFrame(y)\n",
    "    df_y.columns = ['target']\n",
    "    full_df = X.join(df_y)\n",
    "    for col in cols:\n",
    "        encode_table = full_df.groupby(col).sum('target').reset_index()\n",
    "        new_col = col+'encoder'\n",
    "        encode_table[new_col] = encode_table['target'].apply(lambda x: x / total)\n",
    "        encode_table = encode_table[[col, new_col]]\n",
    "        full_df = full_df.merge(encode_table, on=[col], how='left').drop(col, axis=1)\n",
    "    full_df.drop(['target'], axis=1, inplace=True)\n",
    "\n",
    "    return full_df"
   ]
  },
  {
   "cell_type": "code",
   "execution_count": 63,
   "metadata": {},
   "outputs": [],
   "source": [
    "X_train_tar = target_encoder(X_train, y_train, cat_features)\n",
    "X_test_tar = target_encoder(X_test, y_test, cat_features)"
   ]
  },
  {
   "cell_type": "code",
   "execution_count": 65,
   "metadata": {},
   "outputs": [],
   "source": [
    "assert X_train_tar.shape == X_train.shape"
   ]
  },
  {
   "cell_type": "code",
   "execution_count": 66,
   "metadata": {
    "ExecuteTime": {
     "end_time": "2018-10-11T20:39:43.088969Z",
     "start_time": "2018-10-11T20:39:43.084985Z"
    },
    "colab": {
     "base_uri": "https://localhost:8080/",
     "height": 151
    },
    "id": "ijB9Da8VSWQl",
    "outputId": "2d233e50-f977-473e-bc78-5fbbd9ce49ca"
   },
   "outputs": [
    {
     "name": "stdout",
     "output_type": "stream",
     "text": [
      "CPU times: user 3 µs, sys: 0 ns, total: 3 µs\n",
      "Wall time: 4.77 µs\n"
     ]
    },
    {
     "name": "stderr",
     "output_type": "stream",
     "text": [
      "/tmp/ipykernel_6646/2341408568.py:93: RuntimeWarning: overflow encountered in exp\n",
      "  probas = 1 / (1 + np.exp(-args))\n"
     ]
    },
    {
     "data": {
      "text/html": [
       "<style>#sk-container-id-4 {color: black;}#sk-container-id-4 pre{padding: 0;}#sk-container-id-4 div.sk-toggleable {background-color: white;}#sk-container-id-4 label.sk-toggleable__label {cursor: pointer;display: block;width: 100%;margin-bottom: 0;padding: 0.3em;box-sizing: border-box;text-align: center;}#sk-container-id-4 label.sk-toggleable__label-arrow:before {content: \"▸\";float: left;margin-right: 0.25em;color: #696969;}#sk-container-id-4 label.sk-toggleable__label-arrow:hover:before {color: black;}#sk-container-id-4 div.sk-estimator:hover label.sk-toggleable__label-arrow:before {color: black;}#sk-container-id-4 div.sk-toggleable__content {max-height: 0;max-width: 0;overflow: hidden;text-align: left;background-color: #f0f8ff;}#sk-container-id-4 div.sk-toggleable__content pre {margin: 0.2em;color: black;border-radius: 0.25em;background-color: #f0f8ff;}#sk-container-id-4 input.sk-toggleable__control:checked~div.sk-toggleable__content {max-height: 200px;max-width: 100%;overflow: auto;}#sk-container-id-4 input.sk-toggleable__control:checked~label.sk-toggleable__label-arrow:before {content: \"▾\";}#sk-container-id-4 div.sk-estimator input.sk-toggleable__control:checked~label.sk-toggleable__label {background-color: #d4ebff;}#sk-container-id-4 div.sk-label input.sk-toggleable__control:checked~label.sk-toggleable__label {background-color: #d4ebff;}#sk-container-id-4 input.sk-hidden--visually {border: 0;clip: rect(1px 1px 1px 1px);clip: rect(1px, 1px, 1px, 1px);height: 1px;margin: -1px;overflow: hidden;padding: 0;position: absolute;width: 1px;}#sk-container-id-4 div.sk-estimator {font-family: monospace;background-color: #f0f8ff;border: 1px dotted black;border-radius: 0.25em;box-sizing: border-box;margin-bottom: 0.5em;}#sk-container-id-4 div.sk-estimator:hover {background-color: #d4ebff;}#sk-container-id-4 div.sk-parallel-item::after {content: \"\";width: 100%;border-bottom: 1px solid gray;flex-grow: 1;}#sk-container-id-4 div.sk-label:hover label.sk-toggleable__label {background-color: #d4ebff;}#sk-container-id-4 div.sk-serial::before {content: \"\";position: absolute;border-left: 1px solid gray;box-sizing: border-box;top: 0;bottom: 0;left: 50%;z-index: 0;}#sk-container-id-4 div.sk-serial {display: flex;flex-direction: column;align-items: center;background-color: white;padding-right: 0.2em;padding-left: 0.2em;position: relative;}#sk-container-id-4 div.sk-item {position: relative;z-index: 1;}#sk-container-id-4 div.sk-parallel {display: flex;align-items: stretch;justify-content: center;background-color: white;position: relative;}#sk-container-id-4 div.sk-item::before, #sk-container-id-4 div.sk-parallel-item::before {content: \"\";position: absolute;border-left: 1px solid gray;box-sizing: border-box;top: 0;bottom: 0;left: 50%;z-index: -1;}#sk-container-id-4 div.sk-parallel-item {display: flex;flex-direction: column;z-index: 1;position: relative;background-color: white;}#sk-container-id-4 div.sk-parallel-item:first-child::after {align-self: flex-end;width: 50%;}#sk-container-id-4 div.sk-parallel-item:last-child::after {align-self: flex-start;width: 50%;}#sk-container-id-4 div.sk-parallel-item:only-child::after {width: 0;}#sk-container-id-4 div.sk-dashed-wrapped {border: 1px dashed gray;margin: 0 0.4em 0.5em 0.4em;box-sizing: border-box;padding-bottom: 0.4em;background-color: white;}#sk-container-id-4 div.sk-label label {font-family: monospace;font-weight: bold;display: inline-block;line-height: 1.2em;}#sk-container-id-4 div.sk-label-container {text-align: center;}#sk-container-id-4 div.sk-container {/* jupyter's `normalize.less` sets `[hidden] { display: none; }` but bootstrap.min.css set `[hidden] { display: none !important; }` so we also need the `!important` here to be able to override the default hidden behavior on the sphinx rendered scikit-learn.org. See: https://github.com/scikit-learn/scikit-learn/issues/21755 */display: inline-block !important;position: relative;}#sk-container-id-4 div.sk-text-repr-fallback {display: none;}</style><div id=\"sk-container-id-4\" class=\"sk-top-container\"><div class=\"sk-text-repr-fallback\"><pre>LogReg(batch_size=500, eta=0.005, max_iter=2000,\n",
       "       w0=array([[0.98261348],\n",
       "       [0.62235285],\n",
       "       [0.6735291 ],\n",
       "       [0.01691177],\n",
       "       [0.0593418 ],\n",
       "       [0.79542529],\n",
       "       [0.38552371],\n",
       "       [0.56121507],\n",
       "       [0.75526388],\n",
       "       [0.75466619],\n",
       "       [0.06605202],\n",
       "       [0.33158554],\n",
       "       [0.24623731],\n",
       "       [0.71527522],\n",
       "       [0.2952818 ],\n",
       "       [0.64302911],\n",
       "       [0.29340186],\n",
       "       [0.50779812],\n",
       "       [0.03669655],\n",
       "       [0.96173558],\n",
       "       [0.10424827],\n",
       "       [0.88853031],\n",
       "       [0.14341927...\n",
       "       [0.62031016],\n",
       "       [0.10363918],\n",
       "       [0.70366332],\n",
       "       [0.73415334],\n",
       "       [0.29703057],\n",
       "       [0.65446626],\n",
       "       [0.35916247],\n",
       "       [0.9838786 ],\n",
       "       [0.76845794],\n",
       "       [0.62623266],\n",
       "       [0.70327423],\n",
       "       [0.64036433],\n",
       "       [0.44906912],\n",
       "       [0.50417409],\n",
       "       [0.27540137],\n",
       "       [0.60388456],\n",
       "       [0.07193946],\n",
       "       [0.21164772],\n",
       "       [0.8063881 ],\n",
       "       [0.58184747],\n",
       "       [0.0959932 ],\n",
       "       [0.11725098],\n",
       "       [0.10474511],\n",
       "       [0.5938984 ],\n",
       "       [0.98501923],\n",
       "       [0.51348866],\n",
       "       [0.83615987],\n",
       "       [0.19461491]]))</pre><b>In a Jupyter environment, please rerun this cell to show the HTML representation or trust the notebook. <br />On GitHub, the HTML representation is unable to render, please try loading this page with nbviewer.org.</b></div><div class=\"sk-container\" hidden><div class=\"sk-item\"><div class=\"sk-estimator sk-toggleable\"><input class=\"sk-toggleable__control sk-hidden--visually\" id=\"sk-estimator-id-4\" type=\"checkbox\" checked><label for=\"sk-estimator-id-4\" class=\"sk-toggleable__label sk-toggleable__label-arrow\">LogReg</label><div class=\"sk-toggleable__content\"><pre>LogReg(batch_size=500, eta=0.005, max_iter=2000,\n",
       "       w0=array([[0.98261348],\n",
       "       [0.62235285],\n",
       "       [0.6735291 ],\n",
       "       [0.01691177],\n",
       "       [0.0593418 ],\n",
       "       [0.79542529],\n",
       "       [0.38552371],\n",
       "       [0.56121507],\n",
       "       [0.75526388],\n",
       "       [0.75466619],\n",
       "       [0.06605202],\n",
       "       [0.33158554],\n",
       "       [0.24623731],\n",
       "       [0.71527522],\n",
       "       [0.2952818 ],\n",
       "       [0.64302911],\n",
       "       [0.29340186],\n",
       "       [0.50779812],\n",
       "       [0.03669655],\n",
       "       [0.96173558],\n",
       "       [0.10424827],\n",
       "       [0.88853031],\n",
       "       [0.14341927...\n",
       "       [0.62031016],\n",
       "       [0.10363918],\n",
       "       [0.70366332],\n",
       "       [0.73415334],\n",
       "       [0.29703057],\n",
       "       [0.65446626],\n",
       "       [0.35916247],\n",
       "       [0.9838786 ],\n",
       "       [0.76845794],\n",
       "       [0.62623266],\n",
       "       [0.70327423],\n",
       "       [0.64036433],\n",
       "       [0.44906912],\n",
       "       [0.50417409],\n",
       "       [0.27540137],\n",
       "       [0.60388456],\n",
       "       [0.07193946],\n",
       "       [0.21164772],\n",
       "       [0.8063881 ],\n",
       "       [0.58184747],\n",
       "       [0.0959932 ],\n",
       "       [0.11725098],\n",
       "       [0.10474511],\n",
       "       [0.5938984 ],\n",
       "       [0.98501923],\n",
       "       [0.51348866],\n",
       "       [0.83615987],\n",
       "       [0.19461491]]))</pre></div></div></div></div></div>"
      ],
      "text/plain": [
       "LogReg(batch_size=500, eta=0.005, max_iter=2000,\n",
       "       w0=array([[0.98261348],\n",
       "       [0.62235285],\n",
       "       [0.6735291 ],\n",
       "       [0.01691177],\n",
       "       [0.0593418 ],\n",
       "       [0.79542529],\n",
       "       [0.38552371],\n",
       "       [0.56121507],\n",
       "       [0.75526388],\n",
       "       [0.75466619],\n",
       "       [0.06605202],\n",
       "       [0.33158554],\n",
       "       [0.24623731],\n",
       "       [0.71527522],\n",
       "       [0.2952818 ],\n",
       "       [0.64302911],\n",
       "       [0.29340186],\n",
       "       [0.50779812],\n",
       "       [0.03669655],\n",
       "       [0.96173558],\n",
       "       [0.10424827],\n",
       "       [0.88853031],\n",
       "       [0.14341927...\n",
       "       [0.62031016],\n",
       "       [0.10363918],\n",
       "       [0.70366332],\n",
       "       [0.73415334],\n",
       "       [0.29703057],\n",
       "       [0.65446626],\n",
       "       [0.35916247],\n",
       "       [0.9838786 ],\n",
       "       [0.76845794],\n",
       "       [0.62623266],\n",
       "       [0.70327423],\n",
       "       [0.64036433],\n",
       "       [0.44906912],\n",
       "       [0.50417409],\n",
       "       [0.27540137],\n",
       "       [0.60388456],\n",
       "       [0.07193946],\n",
       "       [0.21164772],\n",
       "       [0.8063881 ],\n",
       "       [0.58184747],\n",
       "       [0.0959932 ],\n",
       "       [0.11725098],\n",
       "       [0.10474511],\n",
       "       [0.5938984 ],\n",
       "       [0.98501923],\n",
       "       [0.51348866],\n",
       "       [0.83615987],\n",
       "       [0.19461491]]))"
      ]
     },
     "execution_count": 66,
     "metadata": {},
     "output_type": "execute_result"
    }
   ],
   "source": [
    "### ╰( ͡° ͜ʖ ͡° )つ──☆*:・ﾟ\n",
    "log_model_tar = LogReg(gd_type='stochastic', max_iter=2000, eta=0.005, tolerance=1e-4,batch_size=500)\n",
    "%time\n",
    "log_model_tar.fit(X_train_tar, y_train)"
   ]
  },
  {
   "cell_type": "code",
   "execution_count": 67,
   "metadata": {},
   "outputs": [
    {
     "name": "stdout",
     "output_type": "stream",
     "text": [
      "4.752487234359553\n",
      "4.408835839150099\n"
     ]
    },
    {
     "name": "stderr",
     "output_type": "stream",
     "text": [
      "/tmp/ipykernel_6646/2341408568.py:93: RuntimeWarning: overflow encountered in exp\n",
      "  probas = 1 / (1 + np.exp(-args))\n"
     ]
    },
    {
     "data": {
      "text/plain": [
       "Text(0.5, 1.0, 'Loss')"
      ]
     },
     "execution_count": 67,
     "metadata": {},
     "output_type": "execute_result"
    },
    {
     "data": {
      "image/png": "[encoded data removed]",
      "text/plain": [
       "<Figure size 640x480 with 1 Axes>"
      ]
     },
     "metadata": {},
     "output_type": "display_data"
    }
   ],
   "source": [
    "print(log_model_tar.loss_history[-1])\n",
    "print(log_model_tar.calc_loss(X_train_tar, y_train))\n",
    "plt.plot(log_model_tar.loss_history)\n",
    "plt.title('Loss')"
   ]
  },
  {
   "cell_type": "code",
   "execution_count": 69,
   "metadata": {
    "id": "bcw3f1vESWQm"
   },
   "outputs": [
    {
     "name": "stderr",
     "output_type": "stream",
     "text": [
      "/tmp/ipykernel_6646/2341408568.py:93: RuntimeWarning: overflow encountered in exp\n",
      "  probas = 1 / (1 + np.exp(-args))\n"
     ]
    }
   ],
   "source": [
    "pred_probas_tar = log_model_tar.predict_proba(X_test_tar)"
   ]
  },
  {
   "cell_type": "code",
   "execution_count": 70,
   "metadata": {
    "colab": {
     "base_uri": "https://localhost:8080/",
     "height": 427
    },
    "id": "-twDwT_MqQTT",
    "outputId": "da6f20b3-1e94-4ffa-8b4d-2ecbf8f1a145"
   },
   "outputs": [
    {
     "data": {
      "text/plain": [
       "Text(0.5, 0, 'False-positive rate')"
      ]
     },
     "execution_count": 70,
     "metadata": {},
     "output_type": "execute_result"
    },
    {
     "data": {
      "image/png": "[encoded data removed]",
      "text/plain": [
       "<Figure size 600x400 with 1 Axes>"
      ]
     },
     "metadata": {},
     "output_type": "display_data"
    }
   ],
   "source": [
    "fpr, tpr, thresholds = roc_curve(y_test, pred_probas_tar)\n",
    "\n",
    "fig, ax = plt.subplots(figsize=(6, 4))\n",
    "\n",
    "plt.plot(fpr, tpr)\n",
    "ax.set_title('ROC-curve')\n",
    "ax.set_ylabel('True-positive rate')\n",
    "ax.set_xlabel('False-positive rate')"
   ]
  },
  {
   "cell_type": "code",
   "execution_count": 71,
   "metadata": {
    "colab": {
     "base_uri": "https://localhost:8080/"
    },
    "id": "4ZIw8DCVnjPm",
    "outputId": "d5757d04-e338-4013-e13b-646b17a4d03c"
   },
   "outputs": [
    {
     "name": "stdout",
     "output_type": "stream",
     "text": [
      "ROC-AUC: 0.5210916383037195\n"
     ]
    }
   ],
   "source": [
    "print('ROC-AUC:', auc(fpr, tpr))"
   ]
  },
  {
   "cell_type": "markdown",
   "metadata": {
    "id": "FkB2PAOBSWQs"
   },
   "source": [
    "Отметим, что такие признаки сами по себе являются классификаторами и, обучаясь на них, мы допускаем \"утечку\" целевой переменной в признаки. Это ведёт к переобучению, поэтому считать такие признаки необходимо так, чтобы при вычислении для конкретного объекта его целевая метка не использовалась. Это можно делать следующими способами:\n",
    "1. Вычислять значение счётчика по всем объектам расположенным выше в датасете (например, если у нас выборка отсортирована по времени).\n",
    "2. Вычислять по фолдам, то есть делить выборку на некоторое количество частей и подсчитывать значение признаков по всем фолдам кроме текущего (как делается в кросс-валидации).\n",
    "3. Внесение некоторого шума в посчитанные признаки.\n",
    "\n",
    "__Задание 8 (1 балл)__. Реализуйте корректное вычисление счётчиков самым простым способом — добавление шума к значениям (необходимо соблюсти баланс между избавление от переобучения и полезностью признаков). Снова обучите логистическую регрессию, оцените качество. Сделайте выводы.\n"
   ]
  },
  {
   "cell_type": "code",
   "execution_count": null,
   "metadata": {
    "id": "uD-0rrpeSWQt"
   },
   "outputs": [],
   "source": [
    "### ╰( ͡° ͜ʖ ͡° )つ──☆*:・ﾟ\n",
    "### ╰( ͡° ͜ʖ ͡° )つ──☆*:・ﾟ\n",
    "def target_encoder_noise(X: pd.DataFrame, y: np.array, cols: list, noise: int):\n",
    "    X.reset_index(drop=True, inplace=True)\n",
    "    df_y = pd.DataFrame(y)\n",
    "    df_y.columns = ['target']\n",
    "    full_df = X.join(df_y)\n",
    "    noise = \n",
    "    for col in cols:\n",
    "        encode_table = full_df.groupby(col).sum('target').reset_index()\n",
    "        new_col = col+'encoder'\n",
    "        encode_table[new_col] = encode_table['target'].apply(lambda x: x / total)\n",
    "        encode_table = encode_table[[col, new_col]]\n",
    "        full_df = full_df.merge(encode_table, on=[col], how='left').drop(col, axis=1)\n",
    "    full_df.drop(['target'], axis=1, inplace=True)\n",
    "\n",
    "    return full_df"
   ]
  },
  {
   "cell_type": "markdown",
   "metadata": {
    "id": "A0npg9nfSWQt"
   },
   "source": [
    "## Часть 3. Отбор признаков (3 балла + 1 бонус)"
   ]
  },
  {
   "cell_type": "markdown",
   "metadata": {
    "id": "Sy2J2VzoSWQt"
   },
   "source": [
    "Важной частью процесса построения модели является отбор признаков. На практике многие признаки оказывают малое влияние на модель (при этом они увеличивают время вычислений) или даже негативно сказываются на качестве модели. Попробуем несколько подходов отбора признаков, оценим, как они влияют на качество модели и сколько времени занимают.\n",
    "\n",
    "Обратимся к тому же датасету про обращение клиентов по страховым случаям. Обойдёмся без сэмплирования объектов."
   ]
  },
  {
   "cell_type": "code",
   "execution_count": null,
   "metadata": {
    "ExecuteTime": {
     "end_time": "2018-10-12T07:36:04.765536Z",
     "start_time": "2018-10-12T07:35:57.814973Z"
    },
    "id": "IGrteF2cSWQt"
   },
   "outputs": [],
   "source": [
    "data = pd.read_csv('train.csv', index_col=0)\n",
    "target = data.target.values\n",
    "data = data.drop('target', axis=1)\n",
    "X_train, X_test, y_train, y_test = train_test_split(data, target, test_size=0.2, random_state=124)"
   ]
  },
  {
   "cell_type": "markdown",
   "metadata": {
    "id": "HTBhxc2bSWQu"
   },
   "source": [
    "Как вы помните, в данных много категориальных признаков. Давайте закодируем их с помощью one-hot кодирования. Исходные колонки с категориальными признаками можно удалить. Сколько признаков мы получили?"
   ]
  },
  {
   "cell_type": "code",
   "execution_count": null,
   "metadata": {
    "id": "reor0gI6SWQu"
   },
   "outputs": [],
   "source": [
    "### ╰( ͡° ͜ʖ ͡° )つ──☆*:・ﾟ"
   ]
  },
  {
   "cell_type": "markdown",
   "metadata": {
    "id": "zlUO6_EcSWQu"
   },
   "source": [
    "В качестве основной модели будем использовать логистическую регрессию, а целевой метрики — ROC-AUC. Обучите модель и посчитайте качество на тестовой выборке. Давайте запомним полученное значение."
   ]
  },
  {
   "cell_type": "code",
   "execution_count": null,
   "metadata": {
    "id": "1zoQ_K98SWQu"
   },
   "outputs": [],
   "source": [
    "### ╰( ͡° ͜ʖ ͡° )つ──☆*:・ﾟ"
   ]
  },
  {
   "cell_type": "markdown",
   "metadata": {
    "id": "Pzml370ESWQu"
   },
   "source": [
    "### Встроенные методы"
   ]
  },
  {
   "cell_type": "markdown",
   "metadata": {
    "id": "Hk7-1Yo8SWQv"
   },
   "source": [
    "Допустим, мы хотим оставить только 200 лучших признаков. Попробуем сделать это несколькими способами.\n",
    "\n",
    "Начнём с отборам признаков с помощью линейной модели. Как известно, веса линейной модели означают вклад каждого признака в предсказание модели, а значит, модуль этого вклада можно интерпретировать как важность признаков. Такой метод отбора называются встроенным или embedded methods, так как он заложен в особенности модели.\n",
    "\n",
    "__Задание 10 (1 балл).__ Оставьте 200 признаков с наибольшим модулем соответсвующего параметра линейной модели. Обучите модели заново и оцените её качество. Замерьте скорость такого отбора признаков.\n",
    "\n",
    "Изменилось ли качество? Как?"
   ]
  },
  {
   "cell_type": "code",
   "execution_count": null,
   "metadata": {
    "id": "lXK-fw4rSWQv"
   },
   "outputs": [],
   "source": [
    "### ╰( ͡° ͜ʖ ͡° )つ──☆*:・ﾟ"
   ]
  },
  {
   "cell_type": "markdown",
   "metadata": {
    "id": "39iM0-SESWQv"
   },
   "source": [
    "А теперь давайте подумаем, что мы не учли. Мы предположили, что признаки вносят вклад равномерно, но не учли их масштаба. Если мы умножим один из признаков в 100 раз, то без учёта регуляризации его вес уменьшится в эти же 100 раз. А мы на основе этого отбираем признаки! Давайте сначала отнормируем признаки одним из способов, а только потом будем удалять признаки.\n",
    "\n",
    "Кстати, в таком случае надо пересчитать качество на всех признаках (сделайте это ниже). Если вы сделали нормирование признаков в самом начале, то попробуйте отобрать признаки на неотмасштабированных данных.\n",
    "\n",
    "Что получилось?"
   ]
  },
  {
   "cell_type": "code",
   "execution_count": null,
   "metadata": {
    "id": "tLb9mkqcSWQw"
   },
   "outputs": [],
   "source": [
    "### ╰( ͡° ͜ʖ ͡° )つ──☆*:・ﾟ"
   ]
  },
  {
   "cell_type": "markdown",
   "metadata": {
    "id": "0HBeYqq7SWQw"
   },
   "source": [
    "__Задание 10 (0.5 балла).__\n",
    "Можно задать отбор признаков более функционально. Вспомним, что L1-регуляризация также умеет отбирать признаки. Понятно, что теперь нам будет сложнее оставить именно 200 лучших признаков, но возможно они нам и не нужны. Подберите коэффициент регуляризации и проверьте, как изменилось качество. Получилось ли добиться лучшего качества при менее чем 200 признаках?"
   ]
  },
  {
   "cell_type": "code",
   "execution_count": null,
   "metadata": {
    "id": "3AJ1db0YSWQw"
   },
   "outputs": [],
   "source": [
    "### ╰( ͡° ͜ʖ ͡° )つ──☆*:・ﾟ"
   ]
  },
  {
   "cell_type": "markdown",
   "metadata": {
    "id": "IqNvd4FBSWQw"
   },
   "source": [
    "### Методы фильтрации"
   ]
  },
  {
   "cell_type": "markdown",
   "metadata": {
    "id": "vzR-tXlnSWQx"
   },
   "source": [
    "Давайте отбирать признаки умнее, а именно через подсчёт некоторой функции для каждого признака. На основании значений этой функции будем оставлять наиболее важные признаки. Методы этого семейства называют фильтрующими или  filter methods.\n",
    "\n",
    "В качестве такой функции будем считать t-статистику:\n",
    "\n",
    "$$t(x) = \\frac{|\\mu_+ - \\mu_-|}{\\sqrt{\\frac{n_+ \\sigma^2_+ + n_- \\sigma^2_-}{n_+ + n_-}}},$$\n",
    "\n",
    "где $mu$, $sigma$, $n$ соответственно среднее, среднеквадратичное отклонение и количество объектов каждого из классов.\n",
    "\n",
    "Если у вас был курс математической статистики, то вы без труда узнаете статистику гипотезы о разности средних при неизвестных дисперсиях. Если же нет, то интуиция следующая. Вообще мы хотим понять, различаются ли распределения признака для двух разных классов. Мы проверяем, что математические ожидания двух распределений различаются. Если они различаются, значит и сами распределения разные. Отсюда можно сделать вывод, что по этому признаку модель сможет отличить один класс от другого. А если распределения неотличимы и статистика маленькая, то и признак бесполезен.\n",
    "\n",
    "Важно оговориться, что хотя мы и не используем статистическое тестирование явно, предпосылки о том, что наблюдения независимы, одинаково распределены и n велико, должны соблюдаться, иначе статистика не имеет смысла. Но у нас большая выборка, поэтому они выполняются. По-хорошему, конечно, надо бы сравнивать статистику с пороговым значением t-распределения и полноценно тестировать гипотезу, но мы обойдёмся простой эвристикой и возьмём признаки с наибольшим значением.\n",
    "\n",
    "\n",
    "__Задание 11 (1 балл)__. Оставьте 200 признаков с наибольшим значением и замерьте качество. Не забудьте замерить скорость отбора признаков в этом случаев."
   ]
  },
  {
   "cell_type": "code",
   "execution_count": null,
   "metadata": {
    "id": "vqbr86jsSWQx"
   },
   "outputs": [],
   "source": [
    "### ╰( ͡° ͜ʖ ͡° )つ──☆*:・ﾟ"
   ]
  },
  {
   "cell_type": "markdown",
   "metadata": {
    "id": "tuUcJAuxSWQx"
   },
   "source": [
    "### Методы-обёртки"
   ]
  },
  {
   "cell_type": "markdown",
   "metadata": {
    "id": "z5Vs_SZQSWQx"
   },
   "source": [
    "__Задание 12 (бонус, 1 балл)__.\n",
    "\n",
    "\n",
    "Заключительный из рассматриваемых нами методов работает следующим образом: мы исключаем по очереди один из признаков и смотрим, как это влияет на качество. Удаляем признаки таким жадным способом, пока не достигнем некоторого критерия (количество признаков или ухудшением качества).\n",
    "\n",
    "Заметим, что нельзя оценивать качество по тестовой выборке, иначе мы можем переобучиться, как, например, при настройке гиперпараметров. Разделите выборку на 2 части, на одной из них обучайте модель без одного из признаков,  на второй части оценивайте качество. Исходную тестовую выборку стоит использовать только на финальной оценке качества.\n",
    "\n",
    "Сделайте одну итерацию и прикиньте, сколько времени займёт такой отбор признаков. Кажется, что чересчур. Давайте возьмём маленький сэмпл данных (например, в 10 тысяч объектов), что сильно уменьшит время итерации. Теперь это долго, но уже приемлимо.\n",
    "\n",
    "Если это всё ещё долго для вашего комьютера, можете попробовать брать не по одному признаку, а сразу по пять (и удалять сразу тоже по 5). Для этого перед каждой итерацией удаления делите заново все признаки на группы по 5 штук.\n",
    "\n",
    "Снова оставьте только 200 признаков и оцените качество на тестовой выборке. Сколько времени занял такой отбор признаков?"
   ]
  },
  {
   "cell_type": "code",
   "execution_count": null,
   "metadata": {
    "id": "7J6JSzhQSWQx"
   },
   "outputs": [],
   "source": [
    "### ╰( ͡° ͜ʖ ͡° )つ──☆*:・ﾟ"
   ]
  },
  {
   "cell_type": "markdown",
   "metadata": {
    "id": "FcZ80GR_SWQy"
   },
   "source": [
    "Опционально (это не оценивается) можете рассмотреть более интересные стратегии отбора, чем жадная. Например, генетические алгоритмы. Можно закодировать бинарным вектором, включаем мы или нет тот или иной признак в модель. А дальше генетическим алгоритмом оптимизировать этот вектор. Всё ещё не быстро, но точно быстрее жадного.\n"
   ]
  },
  {
   "cell_type": "markdown",
   "metadata": {
    "id": "EW76s4WpSWQy"
   },
   "source": [
    "**Задание 13 (0.5 балла)** Давайте подведём итоги по отбору признаков. Назовите преимущества и недостатки каждого из методов. Какой метод привёл к наилучшему качеству? Если не делали бонус — сравните встроенный метод и метод фильтрации.\n",
    "\n",
    "**Ответ:** ..."
   ]
  },
  {
   "cell_type": "code",
   "execution_count": null,
   "metadata": {
    "id": "Z6aTYDFDSWQy"
   },
   "outputs": [],
   "source": []
  }
 ],
 "metadata": {
  "colab": {
   "provenance": []
  },
  "kernelspec": {
   "display_name": "Python 3 (ipykernel)",
   "language": "python",
   "name": "python3"
  },
  "language_info": {
   "codemirror_mode": {
    "name": "ipython",
    "version": 3
   },
   "file_extension": ".py",
   "mimetype": "text/x-python",
   "name": "python",
   "nbconvert_exporter": "python",
   "pygments_lexer": "ipython3",
   "version": "3.10.12"
  },
  "toc": {
   "base_numbering": 1,
   "nav_menu": {},
   "number_sections": true,
   "sideBar": true,
   "skip_h1_title": true,
   "title_cell": "Table of Contents",
   "title_sidebar": "Contents",
   "toc_cell": false,
   "toc_position": {},
   "toc_section_display": true,
   "toc_window_display": false
  },
  "varInspector": {
   "cols": {
    "lenName": 16,
    "lenType": 16,
    "lenVar": 40
   },
   "kernels_config": {
    "python": {
     "delete_cmd_postfix": "",
     "delete_cmd_prefix": "del ",
     "library": "var_list.py",
     "varRefreshCmd": "print(var_dic_list())"
    },
    "r": {
     "delete_cmd_postfix": ") ",
     "delete_cmd_prefix": "rm(",
     "library": "var_list.r",
     "varRefreshCmd": "cat(var_dic_list()) "
    }
   },
   "types_to_exclude": [
    "module",
    "function",
    "builtin_function_or_method",
    "instance",
    "_Feature"
   ],
   "window_display": false
  }
 },
 "nbformat": 4,
 "nbformat_minor": 4
}
